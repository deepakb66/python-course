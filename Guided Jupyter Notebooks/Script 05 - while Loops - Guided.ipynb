{
 "cells": [
  {
   "cell_type": "markdown",
   "metadata": {
    "deletable": false,
    "editable": false,
    "run_control": {
     "frozen": true
    }
   },
   "source": [
    "<hr style=\"height:.9px;border:none;color:#333;background-color:#333;\" />\n",
    "<hr style=\"height:.9px;border:none;color:#333;background-color:#333;\" />\n",
    "\n",
    "<br><h1>while Loops</h1>\n",
    "<em>Introduction to Python | In-Class Script</em><br><br>\n",
    "\n",
    "Prof. Chase Kusterer - Faculty of Analytics <br>\n",
    "Hult International Business School <br>\n",
    "<a href=\"https://github.com/chase-kusterer\">https://github.com/chase-kusterer</a> <br><br><br><br><br>\n",
    "\n",
    "<hr style=\"height:.9px;border:none;color:#333;background-color:#333;\" />\n",
    "<hr style=\"height:.9px;border:none;color:#333;background-color:#333;\" />\n",
    "<br>\n",
    "\n",
    "<h2>Part I: while Loops - Conditional Iteration</h2>\n",
    "Let's start our session on <em>while</em> loops by learning about the danger of infinite loops.\n",
    "<br><br>\n",
    "<strong>Caution:</strong> The code in <em>Session 8.1.1</em> contains an infinite loop. This code block has been locked so that you don't accidentally get stuck and need to restart your Python kernel. If you end up getting stuck in an infinite loop, you can escape by navigating to <em>Kernel > Interrupt</em>, or by pressing <em>Control/Command + C</em> on your keyboard."
   ]
  },
  {
   "cell_type": "code",
   "execution_count": null,
   "metadata": {
    "deletable": false,
    "editable": false,
    "run_control": {
     "frozen": true
    }
   },
   "outputs": [],
   "source": [
    "# Session 8.1.1\n",
    "\n",
    "# Caution: this is an infinite loop\n",
    "\n",
    "# declaring an object\n",
    "x = 5\n",
    "\n",
    "# coding an infinite loop\n",
    "while x > 1:\n",
    "    print(x)"
   ]
  },
  {
   "cell_type": "markdown",
   "metadata": {
    "deletable": false,
    "editable": false,
    "run_control": {
     "frozen": true
    }
   },
   "source": [
    "<hr style=\"height:.9px;border:none;color:#333;background-color:#333;\" />\n",
    "\n",
    "<br>\n",
    "Infinite loops have a very important purpose in programming. However, if intending to create a program that loops until a condition is no longer met, the body of the loop must contain code that, at some point, results in the loop terminating."
   ]
  },
  {
   "cell_type": "code",
   "execution_count": null,
   "metadata": {
    "deletable": false,
    "editable": false
   },
   "outputs": [],
   "source": [
    "# Session 8.1.2\n",
    "\n",
    "# declaring an object\n",
    "x = 5\n",
    "\n",
    "# looping while x is greater than one\n",
    "while x > 1:\n",
    "    print(x)\n",
    "    x -= 1"
   ]
  },
  {
   "cell_type": "markdown",
   "metadata": {
    "deletable": false,
    "editable": false,
    "run_control": {
     "frozen": true
    }
   },
   "source": [
    "<hr style=\"height:.9px;border:none;color:#333;background-color:#333;\" />\n",
    "\n",
    "<br>\n",
    "Run the code below to see another example of a <em>while</em> loop."
   ]
  },
  {
   "cell_type": "code",
   "execution_count": null,
   "metadata": {
    "deletable": false,
    "editable": false
   },
   "outputs": [],
   "source": [
    "# instantiating an object\n",
    "count = 10\n",
    "\n",
    "# looping while count is greater than zero\n",
    "while count > 0:\n",
    "    print(count)\n",
    "    count = count - 1\n",
    "    input(prompt = \"< Press ENTER to continue. >\\n\")\n",
    "\n",
    "# liftoff!\n",
    "print(\"LIFTOFF!\")"
   ]
  },
  {
   "cell_type": "markdown",
   "metadata": {
    "cell_style": "center",
    "deletable": false,
    "editable": false,
    "run_control": {
     "frozen": true
    }
   },
   "source": [
    "<hr style=\"height:.9px;border:none;color:#333;background-color:#333;\" />\n",
    "\n",
    "<h2>People and Coffee</h2>\n",
    "<h4>a) Write a <em>while</em> loop that terminates iteration when either <em>people</em> or <em>cups_of_coffee</em> is equal to zero.</h4>"
   ]
  },
  {
   "cell_type": "code",
   "execution_count": null,
   "metadata": {},
   "outputs": [],
   "source": [
    "# declaring objects\n",
    "cups_of_coffee = 25\n",
    "people         = 20\n",
    "\n",
    "\n",
    "# looping until cups_of_coffee or people equals zero\n",
    "____\n",
    "\n",
    "\n",
    "# printing results\n",
    "print(f\"You have {cups_of_coffee} cups of coffee remaining.\")\n",
    "print(f\"You have {people} people still waiting for coffee.\")"
   ]
  },
  {
   "cell_type": "markdown",
   "metadata": {
    "deletable": false,
    "editable": false,
    "run_control": {
     "frozen": true
    }
   },
   "source": [
    "<hr style=\"height:.9px;border:none;color:#333;background-color:#333;\" />\n",
    "\n",
    "<h4>b) Move and modify the print statement.</h4>\n",
    "Modify the print statement from the above code so that it runs conditionally as follows:\n",
    "\n",
    "1. If <em>cups_of_coffee</em> reaches zero before <em>people</em>, print:\n",
    "\n",
    "~~~\n",
    "    You have run out of coffee and {people} people are still waiting.\n",
    "~~~\n",
    "\n",
    "\n",
    "\n",
    "2. If <em>people</em> reaches zero before <em>cups_of_coffee</em>, print:\n",
    "\n",
    "~~~\n",
    "    You have {cups_of_coffee} cups of coffee remaining.\n",
    "~~~\n",
    "\n",
    "\n",
    "\n",
    "3. If <em>cups_of_coffee</em> and <em>people</em> reach zero in the same iteration, print:\n",
    "\n",
    "~~~\n",
    "    Great job everyone!\n",
    "~~~\n",
    "\n",
    "\n",
    "4. If none of the aforementioned conditions are met, print an error message.\n",
    "\n"
   ]
  },
  {
   "cell_type": "code",
   "execution_count": null,
   "metadata": {},
   "outputs": [],
   "source": [
    "# declaring objects\n",
    "cups_of_coffee = 20\n",
    "people         = 20\n",
    "\n",
    "\n",
    "# looping until cups_of_coffee or people equals zero\n",
    "while cups_of_coffee > 0 and people > 0:\n",
    "        cups_of_coffee -= 1\n",
    "        people         -= 1\n",
    "\n",
    "\n",
    "# printing results\n",
    "____"
   ]
  },
  {
   "cell_type": "markdown",
   "metadata": {
    "deletable": false,
    "editable": false,
    "run_control": {
     "frozen": true
    }
   },
   "source": [
    "<hr style=\"height:.9px;border:none;color:#333;background-color:#333;\" />\n",
    "\n",
    "<h2>Part II: Guess the Number</h2>\n",
    "<h4>a) Write a <em>while</em> loop to allow users three chances to guess a random number.</h4>\n",
    "After a user makes a guess, conditionally output one of the following statements:\n",
    "\n",
    "1. If a user guesses correctly, print:\n",
    "\n",
    "~~~\n",
    "    You win!\n",
    "~~~\n",
    "\n",
    "\n",
    "\n",
    "2. If a user guesses incorrectly and has chances remaining, print:\n",
    "\n",
    "~~~\n",
    "    That's incorrect. You have {guesses} guesses remaining.\n",
    "~~~\n",
    "\n",
    "\n",
    "\n",
    "3. If a user guesses incorrectly and has no guesses remaining, print:\n",
    "\n",
    "~~~\n",
    "    You are out of guesses. The number was {number}.\n",
    "~~~\n",
    "\n",
    "\n",
    "4. If none of the aforementioned conditions are met, print an error message.\n",
    "\n"
   ]
  },
  {
   "cell_type": "code",
   "execution_count": null,
   "metadata": {},
   "outputs": [],
   "source": [
    "# importing necessary packages\n",
    "import random\n",
    "\n",
    "# declaring objects\n",
    "number = random.randint(1,10) # random number remains the same for each guess\n",
    "chances = 3\n",
    "\n",
    "\n",
    "# looping until a user is out of guesses\n",
    "while ____:\n",
    "    choice = input('\\n What is your guess (1-10)?\\n> ')\n",
    "\n",
    "    # converting choice for numerical comparison\n",
    "    ____\n",
    "    \n",
    "    # conditional statement based on user input\n",
    "    if choice == number:\n",
    "        ____\n",
    "\n",
    "    elif choice != number:\n",
    "        ____\n",
    "\n",
    "    # setting a different error message for inner and outer loops\n",
    "    else:\n",
    "        print(\"\\nSomething went wrong.\")"
   ]
  },
  {
   "cell_type": "markdown",
   "metadata": {
    "deletable": false,
    "editable": false,
    "run_control": {
     "frozen": true
    }
   },
   "source": [
    "<hr style=\"height:.9px;border:none;color:#333;background-color:#333;\" />\n",
    "\n",
    "<h4>b) Modify the <em>while</em> loop so that a user has an infinite number of chances.</h4>"
   ]
  },
  {
   "cell_type": "code",
   "execution_count": null,
   "metadata": {},
   "outputs": [],
   "source": [
    "# importing necessary packages\n",
    "import random\n",
    "\n",
    "# declaring objects\n",
    "number = random.randint(1,10) # random number remains the same for each guess\n",
    "\n",
    "\n",
    "# looping until a user guesses correctly\n",
    "____"
   ]
  },
  {
   "cell_type": "markdown",
   "metadata": {
    "deletable": false,
    "editable": false,
    "run_control": {
     "frozen": true
    }
   },
   "source": [
    "<hr style=\"height:.9px;border:none;color:#333;background-color:#333;\" />\n",
    "\n",
    "<h2>Part III: try-except Clauses</h2>\n",
    "The try-except clause is designed for exception handling (controlling for errors). In the example below, the code will try to make an integer conversion on the variable <em>choice</em>. If the conversion is successful, the <strong>except</strong> clause is ignored. However, if the conversion causes an error, the <strong>except</strong> clause runs.\n",
    "\n",
    "~~~\n",
    "try:\n",
    "    int(choice)\n",
    "    \n",
    "except:\n",
    "    continue\n",
    "~~~\n",
    "\n",
    "<h4>a) Copy your code from the exercise above and add a try-except clause to prevent errors.</h4>"
   ]
  },
  {
   "cell_type": "code",
   "execution_count": null,
   "metadata": {},
   "outputs": [],
   "source": [
    "# good luck!\n",
    "\n",
    "\n"
   ]
  },
  {
   "cell_type": "markdown",
   "metadata": {
    "deletable": false,
    "editable": false,
    "run_control": {
     "frozen": true
    }
   },
   "source": [
    "<hr style=\"height:.9px;border:none;color:#333;background-color:#333;\" />\n",
    "\n",
    "<h2>Summary</h2>\n",
    "There are an incredible amount of practical applications for <em>while</em> loops. They are commonly used when development requirements emphasize the need to iterate until a condition is no longer met.\n",
    "<br><br>\n",
    "\n",
    "~~~\n",
    "                                                _ \n",
    "     /\\                                        | |\n",
    "    /  \\__      _____  ___  ___  _ __ ___   ___| |\n",
    "   / /\\ \\ \\ /\\ / / _ \\/ __|/ _ \\| '_ ` _ \\ / _ \\ |\n",
    "  / ____ \\ V  V /  __/\\__ \\ (_) | | | | | |  __/_|\n",
    " /_/    \\_\\_/\\_/ \\___||___/\\___/|_| |_| |_|\\___(_)\n",
    "                                                  \n",
    "~~~"
   ]
  },
  {
   "cell_type": "markdown",
   "metadata": {
    "deletable": false,
    "editable": false,
    "run_control": {
     "frozen": true
    }
   },
   "source": [
    "<br>"
   ]
  }
 ],
 "metadata": {
  "kernelspec": {
   "display_name": "Python 3 (ipykernel)",
   "language": "python",
   "name": "python3"
  },
  "language_info": {
   "codemirror_mode": {
    "name": "ipython",
    "version": 3
   },
   "file_extension": ".py",
   "mimetype": "text/x-python",
   "name": "python",
   "nbconvert_exporter": "python",
   "pygments_lexer": "ipython3",
   "version": "3.11.8"
  },
  "toc": {
   "base_numbering": 1,
   "nav_menu": {},
   "number_sections": false,
   "sideBar": true,
   "skip_h1_title": false,
   "title_cell": "Table of Contents",
   "title_sidebar": "Contents",
   "toc_cell": false,
   "toc_position": {},
   "toc_section_display": true,
   "toc_window_display": false
  },
  "varInspector": {
   "cols": {
    "lenName": 16,
    "lenType": 16,
    "lenVar": 40
   },
   "kernels_config": {
    "python": {
     "delete_cmd_postfix": "",
     "delete_cmd_prefix": "del ",
     "library": "var_list.py",
     "varRefreshCmd": "print(var_dic_list())"
    },
    "r": {
     "delete_cmd_postfix": ") ",
     "delete_cmd_prefix": "rm(",
     "library": "var_list.r",
     "varRefreshCmd": "cat(var_dic_list()) "
    }
   },
   "types_to_exclude": [
    "module",
    "function",
    "builtin_function_or_method",
    "instance",
    "_Feature"
   ],
   "window_display": false
  }
 },
 "nbformat": 4,
 "nbformat_minor": 2
}
