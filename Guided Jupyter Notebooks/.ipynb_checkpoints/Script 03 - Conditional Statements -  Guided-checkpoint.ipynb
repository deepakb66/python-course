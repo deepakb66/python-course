{
 "cells": [
  {
   "cell_type": "markdown",
   "metadata": {
    "deletable": false,
    "editable": false,
    "run_control": {
     "frozen": true
    }
   },
   "source": [
    "<hr style=\"height:.9px;border:none;color:#333;background-color:#333;\" />\n",
    "<hr style=\"height:.9px;border:none;color:#333;background-color:#333;\" />\n",
    "\n",
    "<br><h2>Conditional Statements</h2>\n",
    "<em>Introduction to Python | In-Class Script</em><br><br>\n",
    "\n",
    "Prof. Chase Kusterer - Faculty of Analytics <br>\n",
    "Hult International Business School <br>\n",
    "<a href=\"https://github.com/chase-kusterer\">https://github.com/chase-kusterer</a><br><br><br>\n",
    "\n",
    "<hr style=\"height:.9px;border:none;color:#333;background-color:#333;\" />\n",
    "<hr style=\"height:.9px;border:none;color:#333;background-color:#333;\" />\n",
    "<br>\n",
    "<h2>Part I: if-elif-else</h2><br>\n",
    "Let's build a conditional statement based on the recommended study hours for this course.<br><br>\n",
    "<strong>a) Develop an <em>if</em> statement that evaluates to True when <em>study_hours</em> is greater than 20.\n",
    "Fill in the body of the <em>if</em> statement with the following:</strong>\n",
    "<br>\n",
    "\n",
    "~~~\n",
    "print(\"Wow! You get an A for effort!\")\n",
    "~~~\n",
    "\n",
    "\n",
    "\n"
   ]
  },
  {
   "cell_type": "code",
   "execution_count": 4,
   "metadata": {},
   "outputs": [
    {
     "name": "stdout",
     "output_type": "stream",
     "text": [
      "Wow! You get an A for effort!\n"
     ]
    }
   ],
   "source": [
    "# instantiating an object\n",
    "study_hours = 25\n",
    "\n",
    "# writing a basic conditional statement\n",
    "if study_hours > 20 :\n",
    "    print(\"Wow! You get an A for effort!\")"
   ]
  },
  {
   "cell_type": "markdown",
   "metadata": {
    "deletable": false,
    "editable": false,
    "run_control": {
     "frozen": true
    }
   },
   "source": [
    "<hr style=\"height:.9px;border:none;color:#333;background-color:#333;\" /><br>\n",
    "\n",
    "<strong>b) Add an <em>else</em> clause to the conditional statement.</strong><br><br>\n",
    "Fill in the body of the <em>else</em> clause with the following:\n",
    "<br>\n",
    "~~~\n",
    "print(\"Take some time to study a bit more.\")\n",
    "~~~"
   ]
  },
  {
   "cell_type": "code",
   "execution_count": 9,
   "metadata": {},
   "outputs": [
    {
     "name": "stdout",
     "output_type": "stream",
     "text": [
      "Wow! You get an A for effort!\n"
     ]
    }
   ],
   "source": [
    "# instantiating an object\n",
    "study_hours = 21\n",
    "\n",
    "\n",
    "# conditional statement with if and else clauses\n",
    "if study_hours > 20:\n",
    "    print(\"Wow! You get an A for effort!\")\n",
    "\n",
    "\n",
    "# adding an else clause\n",
    "else:\n",
    "    print(\"Take some time to study a bit more.\")"
   ]
  },
  {
   "cell_type": "markdown",
   "metadata": {
    "deletable": false,
    "editable": false,
    "run_control": {
     "frozen": true
    }
   },
   "source": [
    "<hr style=\"height:.9px;border:none;color:#333;background-color:#333;\" /><br>\n",
    "\n",
    "<strong>c) Add an <em>elif</em> clause that evaluates to True when <em>study_hours</em> is greater than or equal to 15.</strong><br><br>\n",
    "Fill in the body of the <em>elif</em> clause with the following:\n",
    "<br>\n",
    "~~~\n",
    "print(\"You're on pace, good job!\")\n",
    "~~~"
   ]
  },
  {
   "cell_type": "code",
   "execution_count": 19,
   "metadata": {},
   "outputs": [
    {
     "name": "stdout",
     "output_type": "stream",
     "text": [
      "Wow! You get an A for effort!\n",
      "You're on pace, good job!\n"
     ]
    }
   ],
   "source": [
    "# instantiating an object\n",
    "study_hours = 25\n",
    "\n",
    "\n",
    "# conditional statement with an if, elif, and else clauses\n",
    "if stuxdy_hours > 20:\n",
    "    print(\"Wow! You get an A for effort!\")\n",
    "\n",
    "elif study_hours >= 15:\n",
    "    print(\"You're on pace, good job!\")\n",
    "\n",
    "elif study_hours >= 0:\n",
    "    print(\"Take some time to study a bit more.\")\n",
    "    \n",
    "else:\n",
    "    print(\"I didn't expect that.... here are some more instructions.\")\n",
    "    "
   ]
  },
  {
   "cell_type": "code",
   "execution_count": 26,
   "metadata": {},
   "outputs": [
    {
     "name": "stdout",
     "output_type": "stream",
     "text": [
      "Take some time to study a bit more.\n"
     ]
    }
   ],
   "source": [
    "# instantiating an object\n",
    "study_hours = \"I studied 5 hours.\"\n",
    "\n",
    "study_hours_lst = study_hours.split(sep = ' ')\n",
    "\n",
    "for word in study_hours_lst:\n",
    "    \n",
    "    try:\n",
    "        number = int(word)\n",
    "        study_hours = number\n",
    "        \n",
    "    except:\n",
    "        pass\n",
    "    \n",
    "    \n",
    "# conditional statement with an if, elif, and else clauses\n",
    "if study_hours > 20:\n",
    "    print(\"Wow! You get an A for effort!\")\n",
    "\n",
    "elif study_hours >= 15:\n",
    "    print(\"You're on pace, good job!\")\n",
    "\n",
    "elif study_hours >= 0:\n",
    "    print(\"Take some time to study a bit more.\")\n",
    "    \n",
    "else:\n",
    "    print(\"I didn't expect that.... here are some more instructions.\")\n",
    "    "
   ]
  },
  {
   "cell_type": "markdown",
   "metadata": {
    "deletable": false,
    "editable": false,
    "run_control": {
     "frozen": true
    }
   },
   "source": [
    "<hr style=\"height:.9px;border:none;color:#333;background-color:#333;\" /><br>\n",
    "\n",
    "In Python, conditional statements run from top to bottom and stop reading conditions as soon as a criteria evaluates to True. Any conditions after this point will not even be read by Python, even if the condition will produce an error. Please see the example below.\n",
    "<br><br>"
   ]
  },
  {
   "cell_type": "code",
   "execution_count": 27,
   "metadata": {
    "deletable": false,
    "editable": false
   },
   "outputs": [
    {
     "name": "stdout",
     "output_type": "stream",
     "text": [
      "Wow! You get an A for effort!\n"
     ]
    }
   ],
   "source": [
    "# instantiating an object\n",
    "study_hours = 5\n",
    "\n",
    "\n",
    "# condition is True\n",
    "if study_hours > 1:\n",
    "    print(\"Wow! You get an A for effort!\")\n",
    "\n",
    "\n",
    "# condition is True\n",
    "elif study_hours > 2:\n",
    "    print(\"You're on pace, good job!\")\n",
    "\n",
    "\n",
    "# condition will produce an error\n",
    "elif x + y + z == \"banana\":\n",
    "    print(\"You're on pace, good job!\")\n",
    "\n",
    "\n",
    "# else clause\n",
    "else:\n",
    "    print(\"Take some time to study a bit more.\")"
   ]
  },
  {
   "cell_type": "markdown",
   "metadata": {
    "deletable": false,
    "editable": false,
    "run_control": {
     "frozen": true
    }
   },
   "source": [
    "<hr style=\"height:.9px;border:none;color:#333;background-color:#333;\" /><br>\n",
    "\n",
    "<h2>Part II: User Input and Conditional Statements</h2><br>\n",
    "Let's modify our program so that it can prompt users to input how many hours they studied in a given week.<br><br>\n",
    "<strong>a) Turn <em>study_hours</em> into an input prompt with the following message:</strong><br>\n",
    "\n",
    "~~~\n",
    "\"How many hours did you study this week?\\n\"\n",
    "~~~"
   ]
  },
  {
   "cell_type": "code",
   "execution_count": 28,
   "metadata": {},
   "outputs": [
    {
     "name": "stdout",
     "output_type": "stream",
     "text": [
      "How many hours did you study this week?\n",
      "15\n"
     ]
    }
   ],
   "source": [
    "#developing an input prompt\n",
    "study_hours = input(prompt = \"How many hours did you study this week?\\n\")"
   ]
  },
  {
   "cell_type": "markdown",
   "metadata": {
    "deletable": false,
    "editable": false,
    "run_control": {
     "frozen": true
    }
   },
   "source": [
    "<hr style=\"height:.9px;border:none;color:#333;background-color:#333;\" /><br>\n",
    "\n",
    "Try running the following conditional statement after the <em>study_hours</em> prompt has been instantiated (i.e., stored as an object)."
   ]
  },
  {
   "cell_type": "code",
   "execution_count": 29,
   "metadata": {
    "deletable": false,
    "editable": false
   },
   "outputs": [
    {
     "ename": "TypeError",
     "evalue": "'>' not supported between instances of 'str' and 'int'",
     "output_type": "error",
     "traceback": [
      "\u001b[0;31m---------------------------------------------------------------------------\u001b[0m",
      "\u001b[0;31mTypeError\u001b[0m                                 Traceback (most recent call last)",
      "Cell \u001b[0;32mIn[29], line 2\u001b[0m\n\u001b[1;32m      1\u001b[0m \u001b[38;5;66;03m# same conditional statement as above\u001b[39;00m\n\u001b[0;32m----> 2\u001b[0m \u001b[38;5;28;01mif\u001b[39;00m study_hours \u001b[38;5;241m>\u001b[39m \u001b[38;5;241m20\u001b[39m:\n\u001b[1;32m      3\u001b[0m     \u001b[38;5;28mprint\u001b[39m(\u001b[38;5;124m\"\u001b[39m\u001b[38;5;124mWow! You get an A for effort!\u001b[39m\u001b[38;5;124m\"\u001b[39m)\n\u001b[1;32m      6\u001b[0m \u001b[38;5;28;01melif\u001b[39;00m study_hours \u001b[38;5;241m>\u001b[39m\u001b[38;5;241m=\u001b[39m \u001b[38;5;241m15\u001b[39m:\n",
      "\u001b[0;31mTypeError\u001b[0m: '>' not supported between instances of 'str' and 'int'"
     ]
    }
   ],
   "source": [
    "# same conditional statement as above\n",
    "if study_hours > 20:\n",
    "    print(\"Wow! You get an A for effort!\")\n",
    "\n",
    "\n",
    "elif study_hours >= 15:\n",
    "    print(\"You're on pace, good job!\")\n",
    "\n",
    "\n",
    "else:\n",
    "    print(\"Take some time to study a bit more.\")"
   ]
  },
  {
   "cell_type": "markdown",
   "metadata": {
    "deletable": false,
    "editable": false,
    "run_control": {
     "frozen": true
    }
   },
   "source": [
    "<hr style=\"height:.9px;border:none;color:#333;background-color:#333;\" /><br>\n",
    "\n",
    "<strong>b) Investigate the object type of <em>study_hours</em>.</strong><br><br>\n",
    "The error message resulting from the code above implies that our object types are inappropriate for the comparisons in the conditional statement.\n",
    "<br>\n",
    "\n",
    "~~~\n",
    "TypeError: '>' not supported between instances of 'str' and 'int'\n",
    "~~~\n",
    "\n",
    "<br>\n",
    "Investigate the type of <em>study_hours</em> in the code below."
   ]
  },
  {
   "cell_type": "code",
   "execution_count": 30,
   "metadata": {},
   "outputs": [
    {
     "data": {
      "text/plain": [
       "str"
      ]
     },
     "execution_count": 30,
     "metadata": {},
     "output_type": "execute_result"
    }
   ],
   "source": [
    "# investigating the object type of study hours\n",
    "type(study_hours)"
   ]
  },
  {
   "cell_type": "markdown",
   "metadata": {
    "deletable": false,
    "editable": false,
    "run_control": {
     "frozen": true
    }
   },
   "source": [
    "<hr style=\"height:.9px;border:none;color:#333;background-color:#333;\" /><br>\n",
    "\n",
    "In order for the conditional statement to evaluate properly, we need to convert the user input into numeric form (integer or float).<br>\n",
    "\n",
    "<strong>c) Convert <em>study_hours</em> into an object of type float and rerun the conditional statement.</strong>"
   ]
  },
  {
   "cell_type": "code",
   "execution_count": 34,
   "metadata": {},
   "outputs": [
    {
     "name": "stdout",
     "output_type": "stream",
     "text": [
      "How many hours did you study this week?\n",
      "15\n",
      "You're on pace, good job!\n"
     ]
    }
   ],
   "source": [
    "# instantiating and converting study_hours\n",
    "study_hours = input(prompt = \"How many hours did you study this week?\\n\")\n",
    "\n",
    "\n",
    "# converting the object to float\n",
    "study_hours = float(study_hours)\n",
    "\n",
    "\n",
    "# same conditional statement as above\n",
    "if study_hours > 20:\n",
    "    print(\"Wow! You get an A for effort!\")\n",
    "\n",
    "\n",
    "elif study_hours >= 15:\n",
    "    print(\"You're on pace, good job!\")\n",
    "\n",
    "\n",
    "else:\n",
    "    print(\"Take some time to study a bit more.\")"
   ]
  },
  {
   "cell_type": "markdown",
   "metadata": {
    "deletable": false,
    "editable": false,
    "run_control": {
     "frozen": true
    }
   },
   "source": [
    "<hr style=\"height:.9px;border:none;color:#333;background-color:#333;\" /><br>\n",
    "\n",
    "<h2>Part III: Making the Program More User Friendly</h2><br>\n",
    "Making things more friendly for the user is likely to make things more complicated for the programmer. However, user experience should (almost) always take priority over ease of development. Let's modify our program so that users can select one of three options for their study hours:\n",
    "<br>\n",
    "\n",
    "~~~\n",
    "    1. less than 15 hours\n",
    "    2. 15-20 hours\n",
    "    3. more than 20 hours\n",
    "~~~\n",
    "\n",
    "<br>\n",
    "<strong>a) Modify the conditional statement.</strong><br>\n",
    "Write the conditional statement so that it recognizes each option number as well as the text <em>'less than'</em> and <em>'more than'</em>. Make sure to write an <em>else</em> clause that runs when no valid option is selected."
   ]
  },
  {
   "cell_type": "code",
   "execution_count": 42,
   "metadata": {},
   "outputs": [
    {
     "name": "stdout",
     "output_type": "stream",
     "text": [
      "\n",
      "How many hours did you study this week?\n",
      "    1. less than 15 hours\n",
      "    2. 15-20 hours\n",
      "    3. more than 20 hours\n",
      "100\n",
      "invalid entry\n"
     ]
    }
   ],
   "source": [
    "# instantiating study_hours with a new prompt\n",
    "study_hours = input(prompt = \"\"\"\n",
    "How many hours did you study this week?\n",
    "    1. less than 15 hours\n",
    "    2. 15-20 hours\n",
    "    3. more than 20 hours\n",
    "\"\"\")\n",
    "\n",
    "\n",
    "# developing a conditional statement\n",
    "if study_hours == '1' or 'less than' in study_hours:\n",
    "    print(\"Take some time to study a bit more.\")\n",
    "\n",
    "elif '2' in study_hours or '15' in study_hours or '20' in study_hours:\n",
    "    print(\"You're on pace, good job!\")\n",
    "\n",
    "elif '3' in study_hours or 'more than' in study_hours:\n",
    "    print(\"Wow! You get an A for effort!\")\n",
    "    \n",
    "else:\n",
    "    print(\"invalid entry\")"
   ]
  },
  {
   "cell_type": "markdown",
   "metadata": {
    "deletable": false,
    "editable": false,
    "run_control": {
     "frozen": true
    }
   },
   "source": [
    "<hr style=\"height:.9px;border:none;color:#333;background-color:#333;\" /><br>\n",
    "\n",
    "Notice that in the code above, if a user were to input 150 for their study hours, the <em>if</em> clause would run, resulting in the user being told to take some time and study a bit more. This is because the <em>' 1 '</em> is being recognized in 150 and the code is doing exactly what it has been programmed to do.<br><br>\n",
    "\n",
    "<strong>b) Redesign the code to fix this problem.</strong><br>\n",
    "There are many ways to address this challenge. Take an approach that works for your current coding abilities and try to keep things simple."
   ]
  },
  {
   "cell_type": "code",
   "execution_count": 46,
   "metadata": {},
   "outputs": [
    {
     "name": "stdout",
     "output_type": "stream",
     "text": [
      "\n",
      "How many hours did you study this week?\n",
      "    A. less than 15 hours\n",
      "    B. 15-20 hours\n",
      "    C. more than 20 hours\n",
      "25\n",
      "Excellent work! Social life is overrated until you're 40 anyway.\n"
     ]
    }
   ],
   "source": [
    "# importing random (normally this goes at the top of the script)\n",
    "import random # random numbers and sequences\n",
    "\n",
    "\n",
    "# simple adjustment: changing from 1, 2, 3 to A, B, C\n",
    "study_hours = input(\"\"\"\n",
    "How many hours did you study this week?\n",
    "    A. less than 15 hours\n",
    "    B. 15-20 hours\n",
    "    C. more than 20 hours\n",
    "\"\"\")\n",
    "\n",
    "\n",
    "#####################\n",
    "# Lists for message #\n",
    "#####################\n",
    "# low study hours list\n",
    "low_lst = [\n",
    "\"Take some time to study a bit more.\",\n",
    "\"\"\"\\\n",
    "If you quit now, you quit every day for the rest of your life.\n",
    "Please study at least 15 hours next week.\"\"\",\n",
    "\"You matter, and so does your learning. Please study more.\"]\n",
    "\n",
    "\n",
    "# normal study hours list\n",
    "med_lst = [\"You're on pace, good job!\",\n",
    "           \"Slow and steady wins the race!\",\n",
    "           \"Keep up the solid work ethic!\"]\n",
    "\n",
    "\n",
    "# high study hours list\n",
    "hi_lst  = [\"Wow! You get an A for effort!\",\n",
    "           \"You're doing great! Make sure to get some fresh air too.\",\n",
    "           \"Excellent work! Social life is overrated until you're 40 anyway.\"]\n",
    "\n",
    "\n",
    "################################################\n",
    "# Developing a more detailed set of conditions #\n",
    "################################################\n",
    "# low\n",
    "if 'less than' in study_hours:\n",
    "    print(  random.choice(low_lst)  )\n",
    "\n",
    "# high\n",
    "elif 'more than' in study_hours:\n",
    "    print(  random.choice(hi_lst)  )\n",
    "\n",
    "# low\n",
    "elif study_hours.lower() == 'a':\n",
    "    print(  random.choice(low_lst)  )\n",
    "\n",
    "# med\n",
    "elif study_hours.lower() == 'b':\n",
    "    print(  random.choice(med_lst)  )\n",
    "\n",
    "# high\n",
    "elif study_hours.lower() == 'c':\n",
    "    print(  random.choice(hi_lst)  )\n",
    "\n",
    "# low\n",
    "elif int(study_hours) < 15:\n",
    "    print(  random.choice(low_lst)  )\n",
    "\n",
    "# med\n",
    "elif int(study_hours) >= 15 and int(study_hours) <= 20:\n",
    "    print(  random.choice(med_lst)  )\n",
    "\n",
    "# high\n",
    "elif int(study_hours) > 20:\n",
    "    print(  random.choice(hi_lst)  )\n",
    "\n",
    "# everything else\n",
    "else:\n",
    "    print(\"Unexpected entry. Please check the code for bugs.\")"
   ]
  },
  {
   "cell_type": "markdown",
   "metadata": {
    "deletable": false,
    "editable": false,
    "run_control": {
     "frozen": true
    }
   },
   "source": [
    "<hr style=\"height:.9px;border:none;color:#333;background-color:#333;\" /><br>\n",
    "\n",
    "<h2>Summary</h2><br>\n",
    "Conditional statements are an important coding structure that allows for programs to run/skip lines of code based on a given condition.\n",
    "<br><br>\n",
    "\n",
    "~~~\n",
    "\n",
    "   ,---.                 _,---.     _,.---._                                    \n",
    " .--.'  \\             .-`.' ,  \\  ,-.' , -  `.   .-.,.---.                      \n",
    " \\==\\-/\\ \\           /==/_  _.-' /==/_,  ,  - \\ /==/  `   \\                     \n",
    " /==/-|_\\ |         /==/-  '..-.|==|   .=.     |==|-, .=., |                    \n",
    " \\==\\,   - \\        |==|_ ,    /|==|_ : ;=:  - |==|   '='  /                    \n",
    " /==/ -   ,|        |==|   .--' |==| , '='     |==|- ,   .'                     \n",
    "/==/-  /\\ - \\       |==|-  |     \\==\\ -    ,_ /|==|_  . ,'.                     \n",
    "\\==\\ _.\\=\\.-'       /==/   \\      '.='. -   .' /==/  /\\ ,  )                    \n",
    " `--`               `--`---'        `--`--''   `--`-`--`--'                     \n",
    "      ,----.      _,---.      _,---.     _,.---._                ,--.--------.  \n",
    "   ,-.--` , \\  .-`.' ,  \\  .-`.' ,  \\  ,-.' , -  `.   .-.,.---. /==/,  -   , -\\ \n",
    "  |==|-  _.-` /==/_  _.-' /==/_  _.-' /==/_,  ,  - \\ /==/  `   \\\\==\\.-.  - ,-./ \n",
    "  |==|   `.-./==/-  '..-./==/-  '..-.|==|   .=.     |==|-, .=., |`--`\\==\\- \\    \n",
    " /==/_ ,    /|==|_ ,    /|==|_ ,    /|==|_ : ;=:  - |==|   '='  /     \\==\\_ \\   \n",
    " |==|    .-' |==|   .--' |==|   .--' |==| , '='     |==|- ,   .'      |==|- |   \n",
    " |==|_  ,`-._|==|-  |    |==|-  |     \\==\\ -    ,_ /|==|_  . ,'.      |==|, |   \n",
    " /==/ ,     //==/   \\    /==/   \\      '.='. -   .' /==/  /\\ ,  )     /==/ -/   \n",
    " `--`-----`` `--`---'    `--`---'        `--`--''   `--`-`--`--'      `--`--`   \n",
    "\n",
    "~~~"
   ]
  },
  {
   "cell_type": "markdown",
   "metadata": {
    "deletable": false,
    "editable": false,
    "run_control": {
     "frozen": true
    },
    "solution2": "shown",
    "solution2_first": true
   },
   "source": [
    "<hr style=\"height:.9px;border:none;color:#333;background-color:#333;\" /><br>\n",
    "\n",
    "<h2>Bonus: Easter Eggs (Wontons)</h2><br>\n",
    "An <a href=\"https://en.wikipedia.org/wiki/Easter_egg_(media)\">Easter egg</a> is a special, hidden item within a program. Open the solution to see how one has been added into the conditional statement for study hours."
   ]
  },
  {
   "cell_type": "code",
   "execution_count": 47,
   "metadata": {
    "deletable": false,
    "editable": false,
    "solution2": "shown"
   },
   "outputs": [
    {
     "name": "stdout",
     "output_type": "stream",
     "text": [
      "\n",
      "How many hours did you study this week?\n",
      "    A. less than 15 hours\n",
      "    B. 15-20 hours\n",
      "    C. more than 20 hours\n",
      "every hour\n",
      "\n",
      "                                                                         ___   \n",
      "                                                                      .'/   \\  \n",
      "          __  __   ___                       .--.   _..._            / /     \\ \n",
      "         |  |/  `.'   `.                     |__| .'     '.   .--./) | |     | \n",
      "         |   .-.  .-.   '                    .--..   .-.   . /.''\\  | |     | \n",
      "    __   |  |  |  |  |  |    __              |  ||  '   '  || |  | | |/`.   .' \n",
      " .:--.'. |  |  |  |  |  | .:--.'.  .--------.|  ||  |   |  | \\`-' /   `.|   |  \n",
      "/ |   \\ ||  |  |  |  |  |/ |   \\ | |____    ||  ||  |   |  | /(\"'`     ||___|  \n",
      "`\" __ | ||  |  |  |  |  |`\" __ | |     /   / |  ||  |   |  | \\ '---.   |/___/  \n",
      " .'.''| ||__|  |__|  |__| .'.''| |   .'   /  |__||  |   |  |  /'\"\"'.\\  .'.--.  \n",
      "/ /   | |_               / /   | |_ /    /___    |  |   |  | ||     ||| |    | \n",
      "\\ \\._,\\ '/               \\ \\._,\\ '/|         |   |  |   |  | '. __// \\_\\    / \n",
      " `--'  `\"                 `--'  `\" |_________|   '--'   '--'  `'---'   `''--'  \n",
      "          \n"
     ]
    }
   ],
   "source": [
    "# input prompt\n",
    "study_hours = input(\"\"\"\n",
    "How many hours did you study this week?\n",
    "    A. less than 15 hours\n",
    "    B. 15-20 hours\n",
    "    C. more than 20 hours\n",
    "\"\"\")\n",
    "\n",
    "\n",
    "# conditional statement\n",
    "if 'less than' in study_hours:\n",
    "    print(\"Take some time to study a bit more.\")  \n",
    "\n",
    "\n",
    "elif 'more than' in study_hours:\n",
    "    print(\"Wow! You get an A for effort!\")\n",
    "\n",
    "\n",
    "# wonton\n",
    "elif study_hours == 'every hour':\n",
    "    print(\"\"\"\n",
    "                                                                         ___   \n",
    "                                                                      .'/   \\  \n",
    "          __  __   ___                       .--.   _..._            / /     \\ \n",
    "         |  |/  `.'   `.                     |__| .'     '.   .--./) | |     | \n",
    "         |   .-.  .-.   '                    .--..   .-.   . /.''\\\\  | |     | \n",
    "    __   |  |  |  |  |  |    __              |  ||  '   '  || |  | | |/`.   .' \n",
    " .:--.'. |  |  |  |  |  | .:--.'.  .--------.|  ||  |   |  | \\`-' /   `.|   |  \n",
    "/ |   \\ ||  |  |  |  |  |/ |   \\ | |____    ||  ||  |   |  | /(\"'`     ||___|  \n",
    "`\" __ | ||  |  |  |  |  |`\" __ | |     /   / |  ||  |   |  | \\ '---.   |/___/  \n",
    " .'.''| ||__|  |__|  |__| .'.''| |   .'   /  |__||  |   |  |  /'\"\"'.\\  .'.--.  \n",
    "/ /   | |_               / /   | |_ /    /___    |  |   |  | ||     ||| |    | \n",
    "\\ \\._,\\ '/               \\ \\._,\\ '/|         |   |  |   |  | \\'. __// \\_\\    / \n",
    " `--'  `\"                 `--'  `\" |_________|   '--'   '--'  `'---'   `''--'  \n",
    "          \"\"\")\n",
    "\n",
    "\n",
    "\n",
    "elif study_hours.lower() == 'a':\n",
    "    print(\"Take some time to study a bit more.\")   \n",
    "    \n",
    "\n",
    "elif study_hours.lower() == 'b':\n",
    "    print(\"You're on pace, good job!\")\n",
    "    \n",
    "    \n",
    "elif study_hours.lower() == 'c':\n",
    "    print(\"Wow! You get an A for effort!\")\n",
    "\n",
    "\n",
    "elif int(study_hours) < 15:\n",
    "    print(\"Take some time to study a bit more.\")\n",
    "\n",
    "elif int(study_hours) >= 15 and int(study_hours) <= 20:\n",
    "    print(\"You're on pace, good job!\")\n",
    "\n",
    "elif int(study_hours) > 20:\n",
    "    print(\"Wow! You get an A for effort!\")\n",
    "\n",
    "else:\n",
    "    print(\"invalid entry\")"
   ]
  },
  {
   "cell_type": "markdown",
   "metadata": {
    "deletable": false,
    "editable": false,
    "run_control": {
     "frozen": true
    }
   },
   "source": [
    "<br>"
   ]
  }
 ],
 "metadata": {
  "kernelspec": {
   "display_name": "Python 3 (ipykernel)",
   "language": "python",
   "name": "python3"
  },
  "language_info": {
   "codemirror_mode": {
    "name": "ipython",
    "version": 3
   },
   "file_extension": ".py",
   "mimetype": "text/x-python",
   "name": "python",
   "nbconvert_exporter": "python",
   "pygments_lexer": "ipython3",
   "version": "3.11.5"
  },
  "toc": {
   "base_numbering": 1,
   "nav_menu": {},
   "number_sections": false,
   "sideBar": true,
   "skip_h1_title": false,
   "title_cell": "Table of Contents",
   "title_sidebar": "Contents",
   "toc_cell": false,
   "toc_position": {},
   "toc_section_display": true,
   "toc_window_display": false
  },
  "varInspector": {
   "cols": {
    "lenName": 16,
    "lenType": 16,
    "lenVar": 40
   },
   "kernels_config": {
    "python": {
     "delete_cmd_postfix": "",
     "delete_cmd_prefix": "del ",
     "library": "var_list.py",
     "varRefreshCmd": "print(var_dic_list())"
    },
    "r": {
     "delete_cmd_postfix": ") ",
     "delete_cmd_prefix": "rm(",
     "library": "var_list.r",
     "varRefreshCmd": "cat(var_dic_list()) "
    }
   },
   "types_to_exclude": [
    "module",
    "function",
    "builtin_function_or_method",
    "instance",
    "_Feature"
   ],
   "window_display": false
  }
 },
 "nbformat": 4,
 "nbformat_minor": 2
}
