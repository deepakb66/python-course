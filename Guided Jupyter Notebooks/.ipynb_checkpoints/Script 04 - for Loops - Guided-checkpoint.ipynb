{
 "cells": [
  {
   "cell_type": "markdown",
   "metadata": {
    "deletable": false,
    "editable": false,
    "run_control": {
     "frozen": true
    }
   },
   "source": [
    "<hr style=\"height:.9px;border:none;color:#333;background-color:#333;\" />\n",
    "<hr style=\"height:.9px;border:none;color:#333;background-color:#333;\" />\n",
    "\n",
    "<br><h1>for Loops</h1>\n",
    "<em>Introduction to Python | In-Class Script</em><br><br>\n",
    "\n",
    "Prof. Chase Kusterer - Faculty of Analytics <br>\n",
    "Hult International Business School <br>\n",
    "<a href=\"https://github.com/chase-kusterer\">https://github.com/chase-kusterer</a><br><br><br>\n",
    "\n",
    "<hr style=\"height:.9px;border:none;color:#333;background-color:#333;\" />\n",
    "<hr style=\"height:.9px;border:none;color:#333;background-color:#333;\" />\n",
    "<br>\n",
    "<h2>Part I: for Loops - An Alternative to Copy/Pasting</h2><br>\n",
    "Let's instantiate a list and then print its elements one by one."
   ]
  },
  {
   "cell_type": "code",
   "execution_count": 1,
   "metadata": {
    "deletable": false,
    "editable": false
   },
   "outputs": [
    {
     "name": "stdout",
     "output_type": "stream",
     "text": [
      "['a', 'b', 'c', 'd', 'e']\n"
     ]
    }
   ],
   "source": [
    "# declaring a list\n",
    "letter_lst = ['a', 'b', 'c', 'd', 'e']\n",
    "\n",
    "# printing the list\n",
    "print(letter_lst)"
   ]
  },
  {
   "cell_type": "markdown",
   "metadata": {
    "deletable": false,
    "editable": false,
    "run_control": {
     "frozen": true
    }
   },
   "source": [
    " <br>"
   ]
  },
  {
   "cell_type": "code",
   "execution_count": 2,
   "metadata": {
    "deletable": false,
    "editable": false
   },
   "outputs": [
    {
     "name": "stdout",
     "output_type": "stream",
     "text": [
      "a\n",
      "b\n",
      "c\n",
      "d\n",
      "e\n"
     ]
    }
   ],
   "source": [
    "# printing each element in lst\n",
    "print(letter_lst[0])\n",
    "print(letter_lst[1])\n",
    "print(letter_lst[2])\n",
    "print(letter_lst[3])\n",
    "print(letter_lst[4])"
   ]
  },
  {
   "cell_type": "markdown",
   "metadata": {
    "deletable": false,
    "editable": false,
    "run_control": {
     "frozen": true
    }
   },
   "source": [
    "<hr style=\"height:.9px;border:none;color:#333;background-color:#333;\" /><br>\n",
    "\n",
    "The copy/paste approach is inefficient and prone to entry-related errors. As an alternative, let's code a <em>for</em> loop to accomplish the same task."
   ]
  },
  {
   "cell_type": "code",
   "execution_count": 3,
   "metadata": {
    "deletable": false,
    "editable": false
   },
   "outputs": [
    {
     "name": "stdout",
     "output_type": "stream",
     "text": [
      "a\n",
      "b\n",
      "c\n",
      "d\n",
      "e\n"
     ]
    }
   ],
   "source": [
    "# for loop\n",
    "for letter in letter_lst:\n",
    "    print(letter)"
   ]
  },
  {
   "cell_type": "code",
   "execution_count": 11,
   "metadata": {},
   "outputs": [
    {
     "name": "stdout",
     "output_type": "stream",
     "text": [
      "e\n"
     ]
    }
   ],
   "source": [
    "# declaring a list\n",
    "letter_lst = ['a', 'b', 'c', 'd', 'e']\n",
    "\n",
    "#len(letter_lst)\n",
    "\n",
    "letter = letter_lst[0+1+1+1+1]\n",
    "print(letter)\n",
    "\n"
   ]
  },
  {
   "cell_type": "markdown",
   "metadata": {
    "deletable": false,
    "editable": false,
    "run_control": {
     "frozen": true
    }
   },
   "source": [
    "<hr style=\"height:.9px;border:none;color:#333;background-color:#333;\" /><br>\n",
    "\n",
    "<strong>a) Loop over the second index of each inner list.</strong><br>\n",
    "The outer list in the code in below has three inner lists, and each inner list contains two strings each."
   ]
  },
  {
   "cell_type": "code",
   "execution_count": 31,
   "metadata": {},
   "outputs": [
    {
     "name": "stdout",
     "output_type": "stream",
     "text": [
      "['aardvark', 'bear']\n",
      "['canary', 'dog']\n",
      "['eagle', 'fish']\n"
     ]
    }
   ],
   "source": [
    "# nested list structure\n",
    "animal_lst = [ ['aardvark', 'bear'],\n",
    "               ['canary'  , 'dog' ],\n",
    "               ['eagle'   , 'fish'] ]\n",
    "\n",
    "\n",
    "# develop your for loop here\n",
    "for thing in animal_lst :\n",
    "    print(thing)\n",
    "    "
   ]
  },
  {
   "cell_type": "code",
   "execution_count": 34,
   "metadata": {},
   "outputs": [
    {
     "name": "stdout",
     "output_type": "stream",
     "text": [
      "dog\n"
     ]
    }
   ],
   "source": [
    "# nested list structure\n",
    "animal_lst = [ ['aardvark', 'bear'],\n",
    "               ['canary'  , 'dog' ],\n",
    "               ['eagle'   , 'fish'] ]\n",
    "\n",
    "\n",
    "# develop your for loop here\n",
    "for lst_part_1, lst_part_2 in animal_lst :\n",
    "\n",
    "    if len(lst_part_2) <= 3:\n",
    "        print(lst_part_2)\n",
    "    "
   ]
  },
  {
   "cell_type": "markdown",
   "metadata": {
    "deletable": false,
    "editable": false,
    "run_control": {
     "frozen": true
    }
   },
   "source": [
    "<hr style=\"height:.9px;border:none;color:#333;background-color:#333;\" />\n",
    "\n",
    "<h4>using break</h4><br>\n",
    "<em>break</em> can be used to stop iterating over a loop. In the code below, <em>break</em> is being used to stop iteration after printing the first zero in the list."
   ]
  },
  {
   "cell_type": "code",
   "execution_count": 40,
   "metadata": {},
   "outputs": [
    {
     "name": "stdout",
     "output_type": "stream",
     "text": [
      "1\n",
      "1\n",
      "1\n",
      "1\n",
      "1\n",
      "1\n",
      "1\n",
      "1\n",
      "1\n",
      "1\n",
      "1\n",
      "1\n",
      "1\n"
     ]
    }
   ],
   "source": [
    "# declaring a list\n",
    "lst = [1, 1, 1, 1, 0, 1, 1, 1, 1, 0, 1, 1, 1, 1, 1]\n",
    "\n",
    "\n",
    "# coding a loop with a break\n",
    "for element in lst:\n",
    "    \n",
    "    input(prompt = \"I'm in the element lst loop.\")\n",
    "    \n",
    "    # conditional statement\n",
    "    if element == 0:\n",
    "        break\n",
    "        \n",
    "    else:\n",
    "        print(\"______\")\n",
    "        pass\n",
    "        \n",
    "    "
   ]
  },
  {
   "cell_type": "markdown",
   "metadata": {
    "deletable": false,
    "editable": false,
    "run_control": {
     "frozen": true
    }
   },
   "source": [
    "<hr style=\"height:.9px;border:none;color:#333;background-color:#333;\" />\n",
    "\n",
    "<h4>using continue</h4><br>\n",
    "<em>continue</em> tells a loop to skip the remainder of an iteration. In the case below, <em>continue</em> is being used to skip all the  zeros in the list."
   ]
  },
  {
   "cell_type": "code",
   "execution_count": 39,
   "metadata": {},
   "outputs": [
    {
     "name": "stdout",
     "output_type": "stream",
     "text": [
      "\n",
      "1\n",
      "\n",
      "1\n",
      "\n",
      "1\n",
      "\n",
      "1\n",
      "\n",
      "\n",
      "1\n",
      "\n",
      "1\n",
      "\n",
      "1\n",
      "\n",
      "1\n",
      "\n",
      "\n",
      "1\n",
      "\n",
      "1\n",
      "\n",
      "1\n",
      "\n",
      "1\n",
      "\n",
      "1\n"
     ]
    }
   ],
   "source": [
    "# declaring a list\n",
    "lst = [1, 1, 1, 1, 0, 1, 1, 1, 1, 0, 1, 1, 1, 1, 1]\n",
    "\n",
    "# rearranging the conditional so that zero is not printed\n",
    "for element in lst:\n",
    "    input()\n",
    "\n",
    "    # conditional statement\n",
    "    if element == 0:\n",
    "        continue # skip ahead to the next iteration\n",
    "    \n",
    "    # printing AFTER the conditional statement\n",
    "    print(element)"
   ]
  },
  {
   "cell_type": "markdown",
   "metadata": {
    "deletable": false,
    "editable": false,
    "run_control": {
     "frozen": true
    }
   },
   "source": [
    "<hr style=\"height:.9px;border:none;color:#333;background-color:#333;\" /><br>\n",
    "\n",
    "<h2>Part II: Argentina in the World Cup</h2><br>\n",
    "To better understand lists, let's analyze the history of Argentina's world cup performances. The following list was developed based on publicly-available data on <a href=\"https://en.wikipedia.org/wiki/Argentina_at_the_FIFA_World_Cup\">this Wikipedia page</a>. The inner lists are formatted as follows:<br>\n",
    "\n",
    "~~~\n",
    "[YEAR, PLACE]\n",
    "~~~\n",
    "\n",
    "In some years, place is coded as a string. Years in which Argentina withdrew from the World Cup are coded as <em>' WD '</em>, and <br><em>' DNQ '</em> represents World Cups in which Argentina did not qualify."
   ]
  },
  {
   "cell_type": "code",
   "execution_count": 41,
   "metadata": {
    "deletable": false,
    "editable": false
   },
   "outputs": [],
   "source": [
    "# list of year and Argentina's World Cup finishes \n",
    "ARG_wrld_cup = [ ['1930', 2    ], ['1934', 9 ], ['1938', 'WD'], ['1950', 'WD'],\n",
    "                 ['1954', 'WD' ], ['1958', 13], ['1962', 10  ], ['1966', 5   ],\n",
    "                 ['1970', 'DNQ'], ['1974', 8 ], ['1978', 1   ], ['1982', 11  ],\n",
    "                 ['1986', 1    ], ['1990', 2 ], ['1994', 10  ], ['1998', 6   ],\n",
    "                 ['2002', 18   ], ['2006', 6 ], ['2010', 5   ], ['2014', 2   ],\n",
    "                 ['2018', 16   ], ['2022', 1 ] ]"
   ]
  },
  {
   "cell_type": "markdown",
   "metadata": {
    "deletable": false,
    "editable": false,
    "run_control": {
     "frozen": true
    }
   },
   "source": [
    "<hr style=\"height:.9px;border:none;color:#333;background-color:#333;\" /><br>\n",
    "\n",
    "<strong>a) Write a <em>for loop</em> to print all place data in <em>ARG_wrld_cup</em>.</strong>"
   ]
  },
  {
   "cell_type": "code",
   "execution_count": null,
   "metadata": {},
   "outputs": [],
   "source": [
    "# develop your loop below\n",
    "____"
   ]
  },
  {
   "cell_type": "markdown",
   "metadata": {
    "deletable": false,
    "editable": false,
    "run_control": {
     "frozen": true
    }
   },
   "source": [
    "<hr style=\"height:.9px;border:none;color:#333;background-color:#333;\" /><br>\n",
    "\n",
    "<strong>b) How did Argentina place in each World Cup leading up to their first championship?</strong><br>\n",
    "Write a <em>for</em> loop to print each place. Stop iteration AFTER Argentina won their first World Cup championship (placed first)."
   ]
  },
  {
   "cell_type": "code",
   "execution_count": 49,
   "metadata": {},
   "outputs": [
    {
     "name": "stdout",
     "output_type": "stream",
     "text": [
      "2\n",
      "9\n",
      "WD\n",
      "WD\n",
      "WD\n",
      "13\n",
      "10\n",
      "5\n",
      "DNQ\n",
      "8\n",
      "1\n"
     ]
    }
   ],
   "source": [
    "# develop your loop below\n",
    "for year, place in ARG_wrld_cup:\n",
    "    \n",
    "    # printing the place data\n",
    "    print(place)\n",
    "    \n",
    "    # stopping the loop\n",
    "    if place == 1:\n",
    "        break\n",
    "        \n",
    "    else:\n",
    "        continue\n",
    "    \n",
    "    "
   ]
  },
  {
   "cell_type": "markdown",
   "metadata": {
    "deletable": false,
    "editable": false,
    "run_control": {
     "frozen": true
    }
   },
   "source": [
    "<hr style=\"height:.9px;border:none;color:#333;background-color:#333;\" /><br>\n",
    "\n",
    "<strong>c) How many world cups did it take for Argentina to win their first championship?</strong><br>\n",
    "Write a <em>for</em> loop to append <em>lst</em> with each place leading up to Argentina's first World Cup championship (including the year they won). Then, print the length of <em>lst</em>."
   ]
  },
  {
   "cell_type": "code",
   "execution_count": null,
   "metadata": {},
   "outputs": [],
   "source": [
    "# develop your loop below\n",
    "for year, place in ARG_wrld_cup:\n",
    "    \n",
    "    # printing the place data\n",
    "    print(place)\n",
    "    \n",
    "    # stopping the loop\n",
    "    if place == 1:\n",
    "        break\n",
    "        \n",
    "    else:\n",
    "        continue"
   ]
  },
  {
   "cell_type": "markdown",
   "metadata": {},
   "source": [
    "<br>"
   ]
  },
  {
   "cell_type": "code",
   "execution_count": 50,
   "metadata": {},
   "outputs": [
    {
     "name": "stdout",
     "output_type": "stream",
     "text": [
      "Help on method_descriptor:\n",
      "\n",
      "append(self, object, /)\n",
      "    Append object to the end of the list.\n",
      "\n"
     ]
    }
   ],
   "source": [
    "help(list.append)"
   ]
  },
  {
   "cell_type": "markdown",
   "metadata": {},
   "source": [
    "<br>"
   ]
  },
  {
   "cell_type": "code",
   "execution_count": 54,
   "metadata": {},
   "outputs": [
    {
     "name": "stdout",
     "output_type": "stream",
     "text": [
      "11\n"
     ]
    }
   ],
   "source": [
    "# placeholder object\n",
    "lst = []\n",
    "\n",
    "# looping over each inner list\n",
    "for year, place in ARG_wrld_cup:\n",
    "\n",
    "    # apending the placeholder object\n",
    "    lst.append(place)\n",
    "\n",
    "    # place == 1\n",
    "    if place == 1:\n",
    "        # printing results\n",
    "        print( len(lst) )\n",
    "        \n",
    "        # stopping the loop\n",
    "        break"
   ]
  },
  {
   "cell_type": "markdown",
   "metadata": {
    "deletable": false,
    "editable": false,
    "run_control": {
     "frozen": true
    }
   },
   "source": [
    "<hr style=\"height:.9px;border:none;color:#333;background-color:#333;\" /><br>\n",
    "\n",
    "<strong>d) How did Argentina place leading up to their first championship in World Cups that they played in?</strong>"
   ]
  },
  {
   "cell_type": "code",
   "execution_count": null,
   "metadata": {},
   "outputs": [],
   "source": [
    "# develop your code to answer the question above\n",
    "____"
   ]
  },
  {
   "cell_type": "markdown",
   "metadata": {
    "deletable": false,
    "editable": false,
    "run_control": {
     "frozen": true
    }
   },
   "source": [
    "<hr style=\"height:.9px;border:none;color:#333;background-color:#333;\" /><br>\n",
    "\n",
    "<strong>e) How many World Cups did it take to win their first championship in World Cups that they played in?</strong>"
   ]
  },
  {
   "cell_type": "code",
   "execution_count": 55,
   "metadata": {
    "deletable": false,
    "editable": false
   },
   "outputs": [
    {
     "name": "stdout",
     "output_type": "stream",
     "text": [
      "7\n"
     ]
    }
   ],
   "source": [
    "# creating a placeholder object\n",
    "lst = []\n",
    "\n",
    "\n",
    "# writing a for loop\n",
    "for year, place in ARG_wrld_cup:\n",
    "    \n",
    "    # conditional based on type\n",
    "    if type(place) == int:\n",
    "        lst.append(place) # appending to the placeholder object\n",
    "        \n",
    "        # break condition\n",
    "        if place == 1:\n",
    "            print(len(lst))\n",
    "            break\n",
    "        \n",
    "        # continuing if condition is not met        \n",
    "        else:\n",
    "            continue\n",
    "    \n",
    "    # completing conditional statement\n",
    "    else:\n",
    "        continue"
   ]
  },
  {
   "cell_type": "markdown",
   "metadata": {
    "deletable": false,
    "editable": false,
    "run_control": {
     "frozen": true
    }
   },
   "source": [
    "<hr style=\"height:.9px;border:none;color:#333;background-color:#333;\" /><br>\n",
    "\n",
    "~~~\n",
    "Notes from Analysis:\n",
    "    * Argentina appeared in in 7 of the 11 World Cups leading\n",
    "      up to their first championship.\n",
    "    * They withdrew three times and did not qualify one time.\n",
    "\n",
    "\n",
    "Additional Tasks\n",
    "    * Let's compare Argentina with their rival Brazil.\n",
    "~~~\n",
    "\n",
    "<br>\n",
    "<hr style=\"height:.9px;border:none;color:#333;background-color:#333;\" /><br>\n",
    "\n",
    "<h2>Part III: The Rivalry: Argentina and Brazil in the World Cup</h2><br>\n",
    "The <a href=\"https://en.wikipedia.org/wiki/Argentina%E2%80%93Brazil_football_rivalry\">football rivalry between Argentina and Brazil</a> is arguably one of the most intense rivalries in modern day sports. As such, it would be interesting to analyze how each country has performed throughout their World Cup histories. This can be approached from a number of angles, and in this exercise we shall analyze which team placed higher in a given championship. To get started, let's add Brazil's World Cup performances to our inner lists, which will resemble the following structure:\n",
    "<br><br>\n",
    "\n",
    "~~~\n",
    "[YEAR, ARGENTINA PLACE, BRAZIL PLACE]\n",
    "~~~\n",
    "\n",
    "<br>\n",
    "In order to offer a more efficient inspection of our data, each inner list has been formatted on its own line."
   ]
  },
  {
   "cell_type": "code",
   "execution_count": 56,
   "metadata": {
    "deletable": false,
    "editable": false
   },
   "outputs": [],
   "source": [
    "# year, Argentina, Brazil\n",
    "wrld_cup_data = [ ['1930', 2    , 6 ],\n",
    "                  ['1934', 9    , 14],\n",
    "                  ['1938', 'WD' , 3 ],\n",
    "                  ['1950', 'WD' , 2 ],\n",
    "                  ['1954', 'WD' , 5 ],\n",
    "                  ['1958', 13   , 1 ],\n",
    "                  ['1962', 10   , 1 ],\n",
    "                  ['1966', 5    , 11],\n",
    "                  ['1970', 'DNQ', 1 ],\n",
    "                  ['1974', 8    , 4 ],\n",
    "                  ['1978', 1    , 3 ],\n",
    "                  ['1982', 11   , 5 ],\n",
    "                  ['1986', 1    , 5 ],\n",
    "                  ['1990', 2    , 9 ],\n",
    "                  ['1994', 10   , 1 ], \n",
    "                  ['1998', 6    , 2 ],\n",
    "                  ['2002', 18   , 1 ],\n",
    "                  ['2006', 6    , 5 ],\n",
    "                  ['2010', 5    , 6 ],\n",
    "                  ['2014', 2    , 4 ],\n",
    "                  ['2018', 16   , 6 ],\n",
    "                  ['2022', 1    , 7 ] ]"
   ]
  },
  {
   "cell_type": "markdown",
   "metadata": {
    "deletable": false,
    "editable": false,
    "run_control": {
     "frozen": true
    }
   },
   "source": [
    "<hr style=\"height:.9px;border:none;color:#333;background-color:#333;\" /><br>\n",
    "\n",
    "<strong>a) Develop a loop to calculate which team placed higher in each World Cup.</strong><br>\n",
    "You will have to control for strings in the data. Your output should read either <em>' Argentina '</em> or <em>' Brazil ' </em>, depending on which team placed higher in a given World Cup. Make sure to also state your assumptions (if any) at the beginning of your script."
   ]
  },
  {
   "cell_type": "code",
   "execution_count": 61,
   "metadata": {},
   "outputs": [
    {
     "name": "stdout",
     "output_type": "stream",
     "text": [
      "Argentina\n",
      "Argentina\n",
      "Brazil\n",
      "Brazil\n",
      "Argentina\n",
      "Brazil\n",
      "Argentina\n",
      "Brazil\n",
      "Argentina\n",
      "Argentina\n",
      "Brazil\n",
      "Brazil\n",
      "Brazil\n",
      "Brazil\n",
      "Argentina\n",
      "Argentina\n",
      "Brazil\n",
      "Argentina\n"
     ]
    }
   ],
   "source": [
    "# stating assumptions\n",
    "\"\"\"\n",
    "Assumptions\n",
    "-----------\n",
    "Calculations should only consider World Cups where both Argentina and Brazil\n",
    "participated and qualified. Without this assumption, we would have no way of\n",
    "knowing how each team would have compared had they both participated in a\n",
    "given World Cup.\n",
    "\n",
    "All World Cups are the same. The first World Cup in 1930 was probably smaller\n",
    "than the most recent one, but that is not being considered in this analysis.\n",
    "\n",
    "Lower place wins. This is to keep things simple in the first design of the\n",
    "code. Another counting method to consider is round-based counting. For\n",
    "example, this would allow for 3rd and 4th place to be the same as both teams\n",
    "were eliminated in the same round. For this analysis, lower place wins.\n",
    "\"\"\"\n",
    "\n",
    "# declaring an empty list to hold results\n",
    "winner = []\n",
    "\n",
    "# for loop to determine winner in each World Cup\n",
    "for year, argentina, brazil in wrld_cup_data:\n",
    "    \n",
    "    # conversion here\n",
    "     if type(argentina) != int or type(brazil) != int:\n",
    "            \n",
    "            if argentina == 'DNQ':\n",
    "                argentina = 1000\n",
    "        \n",
    "    \n",
    "    if type(argentina) == int and type(brazil) == int:\n",
    "        \n",
    "        if argentina < brazil:\n",
    "            winner.append('Argentina')\n",
    "            \n",
    "        elif argentina > brazil:\n",
    "            winner.append('Brazil')\n",
    "        \n",
    "        else:\n",
    "            winner.append(\"Tie\")\n",
    "\n",
    "    else:\n",
    "        pass\n",
    "\n",
    "\n",
    "# looping to print the results one by one\n",
    "for country in winner:\n",
    "    print(country)"
   ]
  },
  {
   "cell_type": "markdown",
   "metadata": {
    "deletable": false,
    "editable": false,
    "run_control": {
     "frozen": true
    }
   },
   "source": [
    "<hr style=\"height:.9px;border:none;color:#333;background-color:#333;\" /><br>\n",
    "\n",
    "<strong>b) Calculate the total number of times each team appears in the <em>winner</em> list.</strong>"
   ]
  },
  {
   "cell_type": "code",
   "execution_count": 58,
   "metadata": {
    "deletable": false,
    "editable": false
   },
   "outputs": [
    {
     "name": "stdout",
     "output_type": "stream",
     "text": [
      "\n",
      "Argentina: 9\n",
      "Brazil:    9\n",
      "\n"
     ]
    }
   ],
   "source": [
    "# declaring placeholder objects\n",
    "argentina = 0\n",
    "brazil    = 0\n",
    "\n",
    "# looping to count frequency of each country\n",
    "for country in winner:\n",
    "    if country == 'Argentina':\n",
    "        argentina += 1\n",
    "    \n",
    "    elif country == 'Brazil':\n",
    "        brazil += 1\n",
    "    \n",
    "    else:\n",
    "        print('Something went wrong.')\n",
    "\n",
    "\n",
    "# printing the results\n",
    "print(\n",
    "f\"\"\"\n",
    "Argentina: {argentina}\n",
    "Brazil:    {brazil}\n",
    "\"\"\")"
   ]
  },
  {
   "cell_type": "markdown",
   "metadata": {
    "deletable": false,
    "editable": false,
    "run_control": {
     "frozen": true
    }
   },
   "source": [
    "<hr style=\"height:.9px;border:none;color:#333;background-color:#333;\" /><br>\n",
    "\n",
    "<h2>Summary</h2><br>\n",
    "This World Cup rivalry is very close! Brazil leading 9-8 in terms of place comparison. Let's see if Argentina can tie things up in 2022!\n",
    "<br><br>\n",
    "\n",
    "~~~\n",
    " #####                       ### \n",
    "#     #  ####    ##   #      ### \n",
    "#       #    #  #  #  #      ### \n",
    "#  #### #    # #    # #       #  \n",
    "#     # #    # ###### #          \n",
    "#     # #    # #    # #      ### \n",
    " #####   ####  #    # ###### ### \n",
    "\n",
    "~~~"
   ]
  },
  {
   "cell_type": "markdown",
   "metadata": {
    "deletable": false,
    "editable": false,
    "run_control": {
     "frozen": true
    }
   },
   "source": [
    "<br>"
   ]
  }
 ],
 "metadata": {
  "kernelspec": {
   "display_name": "Python 3 (ipykernel)",
   "language": "python",
   "name": "python3"
  },
  "language_info": {
   "codemirror_mode": {
    "name": "ipython",
    "version": 3
   },
   "file_extension": ".py",
   "mimetype": "text/x-python",
   "name": "python",
   "nbconvert_exporter": "python",
   "pygments_lexer": "ipython3",
   "version": "3.11.5"
  },
  "toc": {
   "base_numbering": 1,
   "nav_menu": {},
   "number_sections": false,
   "sideBar": true,
   "skip_h1_title": false,
   "title_cell": "Table of Contents",
   "title_sidebar": "Contents",
   "toc_cell": false,
   "toc_position": {},
   "toc_section_display": true,
   "toc_window_display": false
  },
  "varInspector": {
   "cols": {
    "lenName": 16,
    "lenType": 16,
    "lenVar": 40
   },
   "kernels_config": {
    "python": {
     "delete_cmd_postfix": "",
     "delete_cmd_prefix": "del ",
     "library": "var_list.py",
     "varRefreshCmd": "print(var_dic_list())"
    },
    "r": {
     "delete_cmd_postfix": ") ",
     "delete_cmd_prefix": "rm(",
     "library": "var_list.r",
     "varRefreshCmd": "cat(var_dic_list()) "
    }
   },
   "types_to_exclude": [
    "module",
    "function",
    "builtin_function_or_method",
    "instance",
    "_Feature"
   ],
   "window_display": false
  }
 },
 "nbformat": 4,
 "nbformat_minor": 2
}
