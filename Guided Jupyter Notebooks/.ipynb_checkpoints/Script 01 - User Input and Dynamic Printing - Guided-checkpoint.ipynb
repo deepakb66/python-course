{
 "cells": [
  {
   "cell_type": "markdown",
   "metadata": {
    "deletable": false,
    "editable": false,
    "run_control": {
     "frozen": true
    }
   },
   "source": [
    "<hr style=\"height:.9px;border:none;color:#333;background-color:#333;\" />\n",
    "<hr style=\"height:.9px;border:none;color:#333;background-color:#333;\" />\n",
    "\n",
    "<br><h1>User Input and Dynamic Printing</h1>\n",
    "<em>Introduction to Python | In-Class Script</em><br><br>\n",
    "\n",
    "Prof. Chase Kusterer - Faculty of Analytics <br>\n",
    "Hult International Business School <br>\n",
    "<a href=\"https://github.com/chase-kusterer\">https://github.com/chase-kusterer</a><br><br><br>\n",
    "\n",
    "<hr style=\"height:.9px;border:none;color:#333;background-color:#333;\" />\n",
    "<hr style=\"height:.9px;border:none;color:#333;background-color:#333;\" />\n",
    "<br>\n",
    "<h2>Part I: Print Statements</h2><br>\n",
    "<strong>a) Type the following into the open code cell below.</strong><br>\n",
    "\n",
    "~~~\n",
    "print(\"Hello World!\")\n",
    "~~~"
   ]
  },
  {
   "cell_type": "code",
   "execution_count": 1,
   "metadata": {},
   "outputs": [
    {
     "name": "stdout",
     "output_type": "stream",
     "text": [
      "Hello\n",
      "\n",
      "\n",
      "\n",
      "\n",
      "World!\n"
     ]
    }
   ],
   "source": [
    "# our first program\n",
    "print(\"\"\"Hello\\n\\n\\n\\n\\nWorld!\"\"\")\n"
   ]
  },
  {
   "cell_type": "markdown",
   "metadata": {
    "deletable": false,
    "editable": false,
    "run_control": {
     "frozen": true
    }
   },
   "source": [
    "<hr style=\"height:.9px;border:none;color:#333;background-color:#333;\" /><br>\n",
    "\n",
    "<strong>b) Store the phrase \"Hello World!\" as x and run the code to print its result. </strong><br>"
   ]
  },
  {
   "cell_type": "code",
   "execution_count": 3,
   "metadata": {},
   "outputs": [
    {
     "name": "stdout",
     "output_type": "stream",
     "text": [
      "Hello World!\n"
     ]
    }
   ],
   "source": [
    "# instantiating x\n",
    "x = \"Hello World!\"\n",
    "\n",
    "# printing result\n",
    "print(x)"
   ]
  },
  {
   "cell_type": "markdown",
   "metadata": {
    "deletable": false,
    "editable": false,
    "run_control": {
     "frozen": true
    }
   },
   "source": [
    "<hr style=\"height:.9px;border:none;color:#333;background-color:#333;\" /><br>\n",
    "\n",
    "<strong>c) Store 'Hello' as x, \" \" as y, and \"\"\"World!\"\"\" as z and run the code to print its result. </strong><br>"
   ]
  },
  {
   "cell_type": "code",
   "execution_count": 7,
   "metadata": {},
   "outputs": [
    {
     "name": "stdout",
     "output_type": "stream",
     "text": [
      "Hello World!\n"
     ]
    }
   ],
   "source": [
    "# declaring 'Hello' and 'World!' to objects y and z, respectively.\n",
    "x = 'Hello'\n",
    "y = \" \"\n",
    "z = \"\"\"World!\"\"\"\n",
    "\n",
    "# printing y + z ... I expect this to say 'Hello World!''\n",
    "print(x + y + z)"
   ]
  },
  {
   "cell_type": "code",
   "execution_count": null,
   "metadata": {},
   "outputs": [],
   "source": [
    "print(x)"
   ]
  },
  {
   "cell_type": "markdown",
   "metadata": {
    "deletable": false,
    "editable": false,
    "run_control": {
     "frozen": true
    }
   },
   "source": [
    "<hr style=\"height:.9px;border:none;color:#333;background-color:#333;\" /><br>\n",
    "\n",
    "<h3>Exploring the <em>print( )</em> Statement</h3><br>\n",
    "Run the following code to show the help documentation of the <em>print( )</em> statement."
   ]
  },
  {
   "cell_type": "code",
   "execution_count": 5,
   "metadata": {
    "deletable": false,
    "editable": false
   },
   "outputs": [
    {
     "name": "stdout",
     "output_type": "stream",
     "text": [
      "Help on built-in function print in module builtins:\n",
      "\n",
      "print(*args, sep=' ', end='\\n', file=None, flush=False)\n",
      "    Prints the values to a stream, or to sys.stdout by default.\n",
      "    \n",
      "    sep\n",
      "      string inserted between values, default a space.\n",
      "    end\n",
      "      string appended after the last value, default a newline.\n",
      "    file\n",
      "      a file-like object (stream); defaults to the current sys.stdout.\n",
      "    flush\n",
      "      whether to forcibly flush the stream.\n",
      "\n"
     ]
    }
   ],
   "source": [
    "help(print)"
   ]
  },
  {
   "cell_type": "code",
   "execution_count": 19,
   "metadata": {},
   "outputs": [
    {
     "name": "stdout",
     "output_type": "stream",
     "text": [
      "Hello World!: OHHHHH yeah!!!!!\n"
     ]
    }
   ],
   "source": [
    "print(x,z,sep = \" \", end = ': ')\n",
    "print(\"OHHHHH yeah!!!!!\")"
   ]
  },
  {
   "cell_type": "markdown",
   "metadata": {
    "deletable": false,
    "editable": false,
    "run_control": {
     "frozen": true
    }
   },
   "source": [
    "<hr style=\"height:.9px;border:none;color:#333;background-color:#333;\" /><br>\n",
    "\n",
    "<h2>Part III: Dynamic Printing Case Study</h2><br>\n",
    "Anything that is coded inside of the curly brackets in a dynamic string is treated as regular Python code. This is known as a <strong>replacement field</strong>, and its value extends far beyond dynamic printing. More information can be found in the <a href=\"https://docs.python.org/3.4/library/string.html#format-string-syntax\">Python documentation</a>. To get started, let's make some quick calculations within a dynamic string.<br><br>\n",
    "\n",
    "<h3>How long does the Dyson V8 Animal vacuum <em>actually</em> run after a full charge?</h3>\n",
    "\n",
    "A few years ago, I was in the market to buy a vacuum and came across the <a href=\"https://www.dyson.com/sticks/dyson-v8-animal.html\">Dyson V8 Animal</a>, which is advertised to last up to 40 minutes on a full charge. Given its great reviews I found online and from friends, I was excited to see it in action. After it arrived, I charged it for 5 hours, set it to <em>Max Suction</em>, and to my surprise, it was dead within 10-12 minutes! After doing some more research, including this review from <a href=\"https://bestvacuumpethairguide.com/dyson-v8-animal-review/\">bestvacuumpethairguide.com</a>, I realized that this is a common issue when using the <em>Max Suction</em> power setting. After charging again, I set the power setting to <em>Extended Life</em>, which had a substantial effect on usable cleaning time. However, the vacuum didn't seem to clean well at all. Therefore, I decided to opt for quality cleaning over extended battery life.<br><br>\n",
    "Let's start with the following template to compare the charge time, advertised use time, and usable cleaning time on <em>Max Suction</em>."
   ]
  },
  {
   "cell_type": "code",
   "execution_count": 2,
   "metadata": {},
   "outputs": [
    {
     "name": "stdout",
     "output_type": "stream",
     "text": [
      "\n",
      "Dyson V8 Animal (Max Suction)\n",
      "-----------------------------\n",
      "Charge Time:          5 hours\n",
      "Advertised Use Time:  40 minutes\n",
      "Usable Cleaning Time: 11 minutes\n",
      "\n",
      "\n",
      "Weekly Cleaning Requirements\n",
      "----------------------------\n",
      "Estimated Vacuum Time:    26 minutes\n",
      "Total Charge Time Needed: _____\n",
      "\n",
      "\n",
      "Ratios\n",
      "------\n",
      "Charge to Use:             _____\n",
      "Usable to Advertised Time: _____\n",
      "\n",
      "\n"
     ]
    }
   ],
   "source": [
    "## Session Code 3.2.1 ##\n",
    "\n",
    "# developing a vacuum time template\n",
    "print(\"\"\"\n",
    "Dyson V8 Animal (Max Suction)\n",
    "-----------------------------\n",
    "Charge Time:          5 hours\n",
    "Advertised Use Time:  40 minutes\n",
    "Usable Cleaning Time: 11 minutes\n",
    "\n",
    "\n",
    "Weekly Cleaning Requirements\n",
    "----------------------------\n",
    "Estimated Vacuum Time:    26 minutes\n",
    "Total Charge Time Needed: _____\n",
    "\n",
    "\n",
    "Ratios\n",
    "------\n",
    "Charge to Use:             _____\n",
    "Usable to Advertised Time: _____\n",
    "\n",
    "\"\"\")"
   ]
  },
  {
   "cell_type": "markdown",
   "metadata": {
    "deletable": false,
    "editable": false,
    "run_control": {
     "frozen": true
    }
   },
   "source": [
    "<hr style=\"height:.9px;border:none;color:#333;background-color:#333;\" /><br>\n",
    "\n",
    "<strong>a) Instantiate variables to represent charge time, advertised use time, usable cleaning time, and estimated weekly vacuum time.</strong>"
   ]
  },
  {
   "cell_type": "code",
   "execution_count": 3,
   "metadata": {},
   "outputs": [],
   "source": [
    "# soft coding key information\n",
    "charge_time      = 5  # hours\n",
    "advertised_time  = 40 # minutes\n",
    "usable_time      = 11 # minutes\n",
    "est_vacuum_time  = 26 # minutes"
   ]
  },
  {
   "cell_type": "markdown",
   "metadata": {
    "deletable": false,
    "editable": false,
    "run_control": {
     "frozen": true
    }
   },
   "source": [
    "<hr style=\"height:.9px;border:none;color:#333;background-color:#333;\" /><br>\n",
    "\n",
    "Notice how there is already a challenge in the numbers: Charge time is in hours while other key information is in minutes. There is little value in displaying the charge time as 300 minutes (5 hours) as this would not be beneficial to end users. Likewise, in this application, there is no major benefit from storing several objects to represent charge time in more than one unit. This is a great opportunity to utilize calculations within a replacement field.<br><br>\n",
    "\n",
    "<strong>b) Make the print statement dynamic by using the variables that were instantiated above.</strong>"
   ]
  },
  {
   "cell_type": "code",
   "execution_count": 9,
   "metadata": {},
   "outputs": [
    {
     "name": "stdout",
     "output_type": "stream",
     "text": [
      "\n",
      "Dyson V8 Animal (Max Suction)\n",
      "-----------------------------\n",
      "Charge Time:          5 hours\n",
      "Advertised Use Time:  40 minutes\n",
      "Usable Cleaning Time: 11 minutes\n",
      "\n",
      "\n",
      "Weekly Cleaning Requirements\n",
      "----------------------------\n",
      "Estimated Vacuum Time: 26 minutes\n",
      "\n"
     ]
    }
   ],
   "source": [
    "# developing a vacuum time template\n",
    "print(f\"\"\"\n",
    "Dyson V8 Animal (Max Suction)\n",
    "-----------------------------\n",
    "Charge Time:          {charge_time} hours\n",
    "Advertised Use Time:  {advertised_time} minutes\n",
    "Usable Cleaning Time: {usable_time} minutes\n",
    "\n",
    "\n",
    "Weekly Cleaning Requirements\n",
    "----------------------------\n",
    "Estimated Vacuum Time: {est_vacuum_time} minutes\n",
    "\"\"\")"
   ]
  },
  {
   "cell_type": "markdown",
   "metadata": {
    "deletable": false,
    "editable": false,
    "run_control": {
     "frozen": true
    }
   },
   "source": [
    "<hr style=\"height:.9px;border:none;color:#333;background-color:#333;\" /><br>\n",
    "\n",
    "<strong>c) Complete the rest of the template using calculations for the following:</strong>\n",
    "\n",
    "Total Charge Time Needed:\n",
    "\n",
    "~~~\n",
    "Charge time (in minutes) * Number of charges needed (est_vacuum_time / usable_time)\n",
    "~~~\n",
    "\n",
    "<br>\n",
    "Charges to Usage:\n",
    "\n",
    "~~~\n",
    "Charge time (in minutes) / Usable time\n",
    "~~~\n",
    "\n",
    "<br>\n",
    "Usable to Advertised Time:\n",
    "\n",
    "~~~\n",
    "Usable time / Advertised time\n",
    "~~~\n",
    "\n",
    "<br>\n",
    "Note: You may want to use <em>round( )</em> to clean up your numbers."
   ]
  },
  {
   "cell_type": "code",
   "execution_count": 10,
   "metadata": {
    "deletable": false,
    "editable": false
   },
   "outputs": [
    {
     "name": "stdout",
     "output_type": "stream",
     "text": [
      "Help on built-in function round in module builtins:\n",
      "\n",
      "round(number, ndigits=None)\n",
      "    Round a number to a given precision in decimal digits.\n",
      "    \n",
      "    The return value is an integer if ndigits is omitted or None.  Otherwise\n",
      "    the return value has the same type as the number.  ndigits may be negative.\n",
      "\n"
     ]
    }
   ],
   "source": [
    "help(round)"
   ]
  },
  {
   "cell_type": "markdown",
   "metadata": {
    "deletable": false,
    "editable": false,
    "run_control": {
     "frozen": true
    }
   },
   "source": [
    "<br>"
   ]
  },
  {
   "cell_type": "code",
   "execution_count": 13,
   "metadata": {},
   "outputs": [
    {
     "name": "stdout",
     "output_type": "stream",
     "text": [
      "\n",
      "Dyson V8 Animal (Max Suction)\n",
      "-----------------------------\n",
      "Charge Time:          5 hours\n",
      "Advertised Use Time:  40 minutes\n",
      "Usable Cleaning Time: 11 minutes\n",
      "\n",
      "\n",
      "Weekly Cleaning Requirements\n",
      "----------------------------\n",
      "Estimated Vacuum Time:    26 minutes\n",
      "Total Charge Time Needed: 709.0909090909091\n",
      "\n",
      "\n",
      "\n"
     ]
    }
   ],
   "source": [
    "# developing a vacuum time template\n",
    "print(f\"\"\"\n",
    "Dyson V8 Animal (Max Suction)\n",
    "-----------------------------\n",
    "Charge Time:          {charge_time} hours\n",
    "Advertised Use Time:  {advertised_time} minutes\n",
    "Usable Cleaning Time: {usable_time} minutes\n",
    "\n",
    "\n",
    "Weekly Cleaning Requirements\n",
    "----------------------------\n",
    "Estimated Vacuum Time:    {est_vacuum_time} minutes\n",
    "Total Charge Time Needed: ____\n",
    "\n",
    "\n",
    "Ratios\n",
    "------\n",
    "Charges to Usage:          {round(  (charge_time * 60) * (est_vacuum_time / usable_time)  , ndigits = 0)} : 1\n",
    "Charge to Usage:           {round(  ((charge_time * 60) / usable_time)   , ndigits = 0)} : 1\n",
    "\n",
    "Usable to Advertised Time: {round(  (_____ / _____ * 100), ndigits = 1)} %\n",
    "\"\"\")"
   ]
  },
  {
   "cell_type": "markdown",
   "metadata": {
    "deletable": false,
    "editable": false,
    "run_control": {
     "frozen": true
    }
   },
   "source": [
    "<hr style=\"height:.9px;border:none;color:#333;background-color:#333;\" /><br>\n",
    "\n",
    "<h2>Part II: Basic User Input</h2><br>\n",
    "<strong>Prompting a user with <em>input( )</em></strong><br>\n",
    "Run the following codes to prompt a user with <strong>input( )</strong>. Notice that the second code block will create a box in which users can input text."
   ]
  },
  {
   "cell_type": "code",
   "execution_count": 14,
   "metadata": {
    "code_folding": [],
    "deletable": false,
    "editable": false
   },
   "outputs": [
    {
     "name": "stdout",
     "output_type": "stream",
     "text": [
      "Welcome to our session on user input and dynamic printing!\n",
      "What's your name?\n"
     ]
    }
   ],
   "source": [
    "# Part 1 of 3\n",
    "\n",
    "# printing welcome message and a question\n",
    "print(\"Welcome to our session on user input and dynamic printing!\")\n",
    "print(\"What's your name?\")"
   ]
  },
  {
   "cell_type": "markdown",
   "metadata": {
    "deletable": false,
    "editable": false,
    "run_control": {
     "frozen": true
    }
   },
   "source": [
    "<br>"
   ]
  },
  {
   "cell_type": "code",
   "execution_count": 19,
   "metadata": {
    "deletable": false,
    "editable": false
   },
   "outputs": [
    {
     "name": "stdout",
     "output_type": "stream",
     "text": [
      "nighthawk\n"
     ]
    }
   ],
   "source": [
    "# Part 2 of 3\n",
    "\n",
    "# prompting for user input\n",
    "user_name = input()"
   ]
  },
  {
   "cell_type": "markdown",
   "metadata": {
    "deletable": false,
    "editable": false,
    "run_control": {
     "frozen": true
    }
   },
   "source": [
    "<br>"
   ]
  },
  {
   "cell_type": "code",
   "execution_count": 20,
   "metadata": {
    "deletable": false,
    "editable": false
   },
   "outputs": [
    {
     "name": "stdout",
     "output_type": "stream",
     "text": [
      "Welcome nighthawk!\n"
     ]
    }
   ],
   "source": [
    "# Part 3 of 3\n",
    "\n",
    "# dynamically applying user input\n",
    "print(f\"Welcome {user_name}!\")"
   ]
  },
  {
   "cell_type": "markdown",
   "metadata": {
    "deletable": false,
    "editable": false,
    "run_control": {
     "frozen": true
    }
   },
   "source": [
    "<hr style=\"height:.9px;border:none;color:#333;background-color:#333;\" /><br>\n",
    " \n",
    "<strong>a) Consolidate the three code blocks above into one.</strong>"
   ]
  },
  {
   "cell_type": "code",
   "execution_count": 27,
   "metadata": {},
   "outputs": [
    {
     "name": "stdout",
     "output_type": "stream",
     "text": [
      "\n",
      "Welcome to our session on user inputs and escape sequences!\n",
      "What's your name? Chase\n",
      "Welcome Chase!\n"
     ]
    }
   ],
   "source": [
    "# < prompt > with a triple-quote wrapper\n",
    "user_name = input(prompt = \n",
    "\"\"\"\n",
    "Welcome to our session on user inputs and escape sequences!\n",
    "What's your name? \"\"\")\n",
    "\n",
    "\n",
    "# dynamic printing\n",
    "print(f\"Welcome { user_name }!\")"
   ]
  },
  {
   "cell_type": "markdown",
   "metadata": {
    "deletable": false,
    "editable": false,
    "run_control": {
     "frozen": true
    }
   },
   "source": [
    "<hr style=\"height:.9px;border:none;color:#333;background-color:#333;\" /><br>\n",
    "\n",
    "<h2>Summary</h2>\n",
    "\n",
    "Having an informative user <strong>input</strong> prompt through the use of the optional argument <em>prompt</em> can help to consolidate code and give users a better experience. <strong>Dynamic printing</strong>, especially when combined with the <strong>triple-quote wrapper</strong>, is exceptionally valuable in the sense that it creates a more visual and intuitive coding approach. This also helps to avoid hard coding, saving time in code maintenance and debugging. Finally, having an informative user <strong>input prompt</strong> through the use of the optional argument <em>prompt</em> can help consolidate code and give users a better experience.\n",
    "<br><br>\n",
    "\n",
    "~~~\n",
    "   _  ___                           __   __\n",
    "  / |/ (_)______   _    _____  ____/ /__/ /\n",
    " /    / / __/ -_) | |/|/ / _ \\/ __/  '_/_/ \n",
    "/_/|_/_/\\__/\\__/  |__,__/\\___/_/ /_/\\_(_)  \n",
    "                                           \n",
    "~~~"
   ]
  },
  {
   "cell_type": "markdown",
   "metadata": {
    "deletable": false,
    "editable": false,
    "run_control": {
     "frozen": true
    }
   },
   "source": [
    "<hr style=\"height:.9px;border:none;color:#333;background-color:#333;\" /><br>\n",
    "\n",
    "<h2>Bonus: Escape Sequences</h2><br>\n",
    "Working with <strong>escape sequences</strong> is best done through experiential learning. Spend some time on your own testing different escape sequences. They can be VERY handy in data science, especially when prompting users and manipulating strings.\n",
    "<br><br>\n",
    "\n",
    "<strong>Playing With Special Characters</strong><br>\n",
    "Some characters have special meanings. Let's play around with them."
   ]
  },
  {
   "cell_type": "code",
   "execution_count": null,
   "metadata": {
    "deletable": false,
    "editable": false
   },
   "outputs": [],
   "source": [
    "# Some characters have special meanings. Let's play around with them.\n",
    "print(\"Welcome \\n\\t to \\n\\t\\t our \\n\\t\\t\\t content \\n\\t\\t\\t\\t on \\n\\t\\t\\t\\t\\t\",\n",
    "      \"user \\n\\t\\t\\t\\t\\t\\t inputs \\n\\t\\t\\t\\t\\t\\t\\t and \\n\\t\\t\\t\\t\\t\\t\\t\\t\",\n",
    "      \"escape \\n\\t\\t\\t\\t\\t\\t\\t\\t\\t sequences!\\n\")\n",
    "\n",
    "# Escaping the '\n",
    "user_name = input('What\\'s your name?   ').capitalize()\n",
    "\n",
    "# Vertical tab (kind of like half of what you get when you hit return)\n",
    "print(f\"Oh, so you call yourself \\\"{user_name.upper()}\\\"?\\v\")\n",
    "\n",
    "input(\"\\n<Press Enter to Continue>\\n\")\n",
    "\n",
    "print(f\"I'm just kidding! Welcome {user_name}!\")"
   ]
  },
  {
   "cell_type": "markdown",
   "metadata": {
    "deletable": false,
    "editable": false,
    "run_control": {
     "frozen": true
    }
   },
   "source": [
    "<br>"
   ]
  }
 ],
 "metadata": {
  "kernelspec": {
   "display_name": "Python 3 (ipykernel)",
   "language": "python",
   "name": "python3"
  },
  "language_info": {
   "codemirror_mode": {
    "name": "ipython",
    "version": 3
   },
   "file_extension": ".py",
   "mimetype": "text/x-python",
   "name": "python",
   "nbconvert_exporter": "python",
   "pygments_lexer": "ipython3",
   "version": "3.11.5"
  },
  "toc": {
   "base_numbering": 1,
   "nav_menu": {},
   "number_sections": false,
   "sideBar": true,
   "skip_h1_title": false,
   "title_cell": "Table of Contents",
   "title_sidebar": "Contents",
   "toc_cell": false,
   "toc_position": {
    "height": "calc(100% - 180px)",
    "left": "10px",
    "top": "150px",
    "width": "374.107px"
   },
   "toc_section_display": true,
   "toc_window_display": false
  },
  "varInspector": {
   "cols": {
    "lenName": 16,
    "lenType": 16,
    "lenVar": 40
   },
   "kernels_config": {
    "python": {
     "delete_cmd_postfix": "",
     "delete_cmd_prefix": "del ",
     "library": "var_list.py",
     "varRefreshCmd": "print(var_dic_list())"
    },
    "r": {
     "delete_cmd_postfix": ") ",
     "delete_cmd_prefix": "rm(",
     "library": "var_list.r",
     "varRefreshCmd": "cat(var_dic_list()) "
    }
   },
   "oldHeight": 122.857142,
   "position": {
    "height": "40px",
    "left": "822px",
    "right": "20px",
    "top": "120px",
    "width": "250px"
   },
   "types_to_exclude": [
    "module",
    "function",
    "builtin_function_or_method",
    "instance",
    "_Feature"
   ],
   "varInspector_section_display": "none",
   "window_display": false
  }
 },
 "nbformat": 4,
 "nbformat_minor": 2
}
