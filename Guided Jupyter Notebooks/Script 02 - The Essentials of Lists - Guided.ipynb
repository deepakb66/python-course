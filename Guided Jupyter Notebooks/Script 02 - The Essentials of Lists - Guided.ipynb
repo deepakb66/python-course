{
 "cells": [
  {
   "cell_type": "markdown",
   "metadata": {
    "deletable": false,
    "editable": false,
    "run_control": {
     "frozen": true
    }
   },
   "source": [
    "<hr style=\"height:1px;border:none;color:#333;background-color:#333;\" />\n",
    "<hr style=\"height:1px;border:none;color:#333;background-color:#333;\" />\n",
    "<br><br><br>\n",
    "\n",
    "<h2>The Essentials of Lists</h2>\n",
    "<em>Introduction to Python | In-Class Script</em><br><br>\n",
    "\n",
    "Prof. Chase Kusterer - Faculty of Analytics <br>\n",
    "Hult International Business School <br>\n",
    "<a href=\"https://github.com/chase-kusterer\">https://github.com/chase-kusterer</a> <br><br><br><br><br>\n",
    "\n",
    "<hr style=\"height:1px;border:none;color:#333;background-color:#333;\" />\n",
    "<hr style=\"height:1px;border:none;color:#333;background-color:#333;\" />"
   ]
  },
  {
   "cell_type": "markdown",
   "metadata": {
    "deletable": false,
    "editable": false,
    "run_control": {
     "frozen": true
    }
   },
   "source": [
    "<h2>Part I: List Indexing</h2>\n",
    "Indexing is one of the most fundamental concepts in Python. As mentioned in the textbook, zero is the first index value in any iterable object (an object that can contain more than one item). Lists fall into this category, as do more advanced structures such as dictionaries and DataFrames. The following activity is designed to help get you comfortable with indexing, both forwards and backwards (the last item in a list has an index value of -1).\n",
    "\n",
    "<h4>Activity: Unscramble The Phrase</h4>\n",
    "Your task in this activity is to unscramble each phrase using list indexing and printing the result. Take, for example, the following quote from the Monty Python movie <em>Life of Brian</em>:\n",
    "<br><br>\n",
    "\n",
    "~~~\n",
    "brian_lst = ['the', 'bright', 'on', 'life', 'always', 'side', 'of', 'look']\n",
    "~~~\n",
    "\n",
    "<br>\n",
    "This phrase can be unscrambled as follows:"
   ]
  },
  {
   "cell_type": "code",
   "execution_count": null,
   "metadata": {
    "deletable": false,
    "editable": false
   },
   "outputs": [],
   "source": [
    "# scrambled phrase\n",
    "brian_lst = ['the', 'bright', 'on', 'life', 'always', 'side', 'of', 'look']"
   ]
  },
  {
   "cell_type": "markdown",
   "metadata": {
    "deletable": false,
    "editable": false,
    "run_control": {
     "frozen": true
    }
   },
   "source": [
    "<br>"
   ]
  },
  {
   "cell_type": "code",
   "execution_count": null,
   "metadata": {
    "deletable": false,
    "editable": false
   },
   "outputs": [],
   "source": [
    "# printing unscrambled phrase\n",
    "print(brian_lst[4], brian_lst[-1], brian_lst[2], brian_lst[0], brian_lst[1],\n",
    "      brian_lst[-3], brian_lst[-2], brian_lst[3])"
   ]
  },
  {
   "cell_type": "markdown",
   "metadata": {
    "deletable": false,
    "editable": false,
    "run_control": {
     "frozen": true
    }
   },
   "source": [
    "<hr style=\"height:1px;border:none;color:#333;background-color:#333;\" /><br>\n",
    "This can also be improved with the string method <strong>.capitalize(&nbsp;)</strong> and by utilizing the <strong>end</strong> argument of the print function."
   ]
  },
  {
   "cell_type": "code",
   "execution_count": null,
   "metadata": {
    "deletable": false,
    "editable": false
   },
   "outputs": [],
   "source": [
    "# printing improved results\n",
    "print(brian_lst[4].capitalize(), brian_lst[-1], brian_lst[2], brian_lst[0], brian_lst[1],\n",
    "      brian_lst[-3], brian_lst[-2], brian_lst[3], end = '.')"
   ]
  },
  {
   "cell_type": "markdown",
   "metadata": {
    "deletable": false,
    "editable": false,
    "run_control": {
     "frozen": true
    }
   },
   "source": [
    "<hr style=\"height:1px;border:none;color:#333;background-color:#333;\" />\n",
    "<h3>Phrase 1</h3><br>\n",
    "<em>Hint:</em> The place where you are learning Python.\n"
   ]
  },
  {
   "cell_type": "code",
   "execution_count": null,
   "metadata": {
    "deletable": false,
    "editable": false
   },
   "outputs": [],
   "source": [
    "# instantiating a list\n",
    "place_lst = ['business', 'hult', 'school', 'international']"
   ]
  },
  {
   "cell_type": "markdown",
   "metadata": {
    "deletable": false,
    "editable": false,
    "run_control": {
     "frozen": true
    }
   },
   "source": [
    "<br>"
   ]
  },
  {
   "cell_type": "code",
   "execution_count": null,
   "metadata": {},
   "outputs": [],
   "source": [
    "# use this space to code your solution\n",
    "\n"
   ]
  },
  {
   "cell_type": "markdown",
   "metadata": {
    "deletable": false,
    "editable": false,
    "run_control": {
     "frozen": true
    }
   },
   "source": [
    "<hr style=\"height:1px;border:none;color:#333;background-color:#333;\" />\n",
    "<h3>Phrase 2</h3><br>\n",
    "<em>Hint:</em> Remember this when you need to store more than item in the same object.\n"
   ]
  },
  {
   "cell_type": "code",
   "execution_count": null,
   "metadata": {
    "deletable": false,
    "editable": false
   },
   "outputs": [],
   "source": [
    "# instantiating a list\n",
    "friend_lst = ['your', 'best', 'one', 'lists', 'of', 'are', 'friends']"
   ]
  },
  {
   "cell_type": "markdown",
   "metadata": {
    "deletable": false,
    "editable": false,
    "run_control": {
     "frozen": true
    }
   },
   "source": [
    "<br>"
   ]
  },
  {
   "cell_type": "code",
   "execution_count": null,
   "metadata": {},
   "outputs": [],
   "source": [
    "# use this space to code your solution\n",
    "\n"
   ]
  },
  {
   "cell_type": "markdown",
   "metadata": {
    "deletable": false,
    "editable": false,
    "run_control": {
     "frozen": true
    }
   },
   "source": [
    "<hr style=\"height:1px;border:none;color:#333;background-color:#333;\" />\n",
    "<h3>Phrase 3</h3><br>\n",
    "<em>Hint:</em> Remember this for a healthy life.\n"
   ]
  },
  {
   "cell_type": "code",
   "execution_count": null,
   "metadata": {
    "deletable": false,
    "editable": false
   },
   "outputs": [],
   "source": [
    "# instantiating a list\n",
    "healthy_lst = ['make', 'wash', 'your', 'to', 'sure', 'hands']"
   ]
  },
  {
   "cell_type": "markdown",
   "metadata": {
    "deletable": false,
    "editable": false,
    "run_control": {
     "frozen": true
    }
   },
   "source": [
    "<br>"
   ]
  },
  {
   "cell_type": "code",
   "execution_count": null,
   "metadata": {},
   "outputs": [],
   "source": [
    "# use this space to code your solution\n",
    "\n"
   ]
  },
  {
   "cell_type": "markdown",
   "metadata": {
    "deletable": false,
    "editable": false,
    "run_control": {
     "frozen": true
    }
   },
   "source": [
    "<hr style=\"height:1px;border:none;color:#333;background-color:#333;\" /><br>\n",
    "<h2>Part II: Inserting Items Into A List</h2>\n",
    "Lists have several extremely useful methods designed to accomplish a multitude of tasks. For example, the <strong>.insert(&nbsp;)</strong> method can be utilized to insert items into a list at any index position, with the exception of adding items to the end of a list (this is the job of the <strong>.append(&nbsp;)</strong> method). The following activity is designed to continue building your confidence with indexing, as well as to give you experience with the aforementioned list methods.\n",
    "\n",
    "<h4>Activity: Meet The Team At Hult</h4>\n",
    "In the following activity, you will be presented with the names and positions of some of the people you may encounter while studying in the Business Analytics program. Your task is to insert the missing vowels for each name and position. For example:\n",
    "<br><br>\n",
    "\n",
    "~~~\n",
    "Dr. Mtt Lll - Prsdnt\n",
    "~~~\n",
    "\n",
    "<br>\n",
    "Should have the result of:\n",
    "<br><br>\n",
    "\n",
    "~~~\n",
    "Dr. Matt Lilley - President\n",
    "~~~\n",
    "\n",
    "<br>\n",
    "This can be accomplished as follows:"
   ]
  },
  {
   "cell_type": "code",
   "execution_count": null,
   "metadata": {
    "deletable": false,
    "editable": false
   },
   "outputs": [],
   "source": [
    "# instantiating a list\n",
    "matt_lst = ['D', 'r', '.', ' ', 'M', 't', 't', ' ', 'L', 'l',\n",
    "            'l', ' ', '-', ' ', 'P', 'r', 's', 'd', 'n', 't']"
   ]
  },
  {
   "cell_type": "markdown",
   "metadata": {
    "deletable": false,
    "editable": false,
    "run_control": {
     "frozen": true
    }
   },
   "source": [
    "<br>"
   ]
  },
  {
   "cell_type": "code",
   "execution_count": null,
   "metadata": {
    "deletable": false,
    "editable": false
   },
   "outputs": [],
   "source": [
    "# inserting vowels one-by-one\n",
    "matt_lst.insert(5,  'a')\n",
    "matt_lst.insert(10, 'i')\n",
    "matt_lst.insert(13, 'e')\n",
    "matt_lst.insert(14, 'y')\n",
    "matt_lst.insert(20, 'e')\n",
    "matt_lst.insert(22, 'i')\n",
    "matt_lst.insert(24, 'e')\n",
    "\n",
    "\n",
    "# this loop is given to you to print the result\n",
    "for letter in matt_lst:\n",
    "    print(letter, end = '')"
   ]
  },
  {
   "cell_type": "markdown",
   "metadata": {
    "deletable": false,
    "editable": false,
    "run_control": {
     "frozen": true
    }
   },
   "source": [
    "<hr style=\"height:1px;border:none;color:#333;background-color:#333;\" />\n",
    "<h3>Name/Position 1: Dr. Mn Dhlln - Prvst</h3><br>\n",
    "<em>Hint:</em> This person is responsible for faculty. (https://www.hult.edu/about/leadership/)"
   ]
  },
  {
   "cell_type": "code",
   "execution_count": null,
   "metadata": {
    "deletable": false,
    "editable": false
   },
   "outputs": [],
   "source": [
    "# instantiating a list\n",
    "mona_lst = ['D', 'r', '.', ' ', 'M', 'n', ' ', 'D', 'h', 'l',\n",
    "            'l', 'n', ' ', '-', ' ', 'P', 'r', 'v', 's', 't']"
   ]
  },
  {
   "cell_type": "markdown",
   "metadata": {
    "deletable": false,
    "editable": false,
    "run_control": {
     "frozen": true
    }
   },
   "source": [
    "<br>"
   ]
  },
  {
   "cell_type": "code",
   "execution_count": null,
   "metadata": {},
   "outputs": [],
   "source": [
    "# use this space to code your solution\n",
    "\n",
    "\n",
    "\n",
    "# this loop is given to you to print the result\n",
    "for letter in mona_lst:\n",
    "    print(letter, end = '')"
   ]
  },
  {
   "cell_type": "markdown",
   "metadata": {
    "deletable": false,
    "editable": false,
    "run_control": {
     "frozen": true
    }
   },
   "source": [
    "<hr style=\"height:1px;border:none;color:#333;background-color:#333;\" />\n",
    "<h3>Name/Position 2: Rchl Bc - Prgrm Dn</h3><br>\n",
    "<em>Hint:</em> This person is responsible for academics.\n",
    "<br><br>\n",
    "<strong>Pro Tips:</strong>\n",
    "\n",
    "* <strong>list.insert(&nbsp;)</strong> takes two mandatory arguments in the following order: <em>index</em> (where to insert) and <em>item</em> (what to insert).\n",
    "* Your list will change size as you insert items. Make sure to take this into account.\n",
    "* If you make a mistake, you can reset the list by rerunning the original <em>ladd_lst</em>. This will ensure that your inserted vowels do not get duplicated."
   ]
  },
  {
   "cell_type": "code",
   "execution_count": null,
   "metadata": {
    "deletable": false,
    "editable": false
   },
   "outputs": [],
   "source": [
    "# instantiating a list\n",
    "rachel_lst = ['R', 'c', 'h', 'l', ' ', 'B', 'c', ' ','-',\n",
    "            ' ', 'P', 'r', 'g', 'r', 'm', ' ', 'D', 'n']"
   ]
  },
  {
   "cell_type": "markdown",
   "metadata": {
    "deletable": false,
    "editable": false,
    "run_control": {
     "frozen": true
    }
   },
   "source": [
    "<br>"
   ]
  },
  {
   "cell_type": "code",
   "execution_count": null,
   "metadata": {},
   "outputs": [],
   "source": [
    "# use this space to code your solution\n",
    "\n",
    "\n",
    "\n",
    "# this loop is given to you to print the result\n",
    "for letter in rachel_lst:\n",
    "    print(letter, end = '')"
   ]
  },
  {
   "cell_type": "markdown",
   "metadata": {
    "deletable": false,
    "editable": false,
    "run_control": {
     "frozen": true
    }
   },
   "source": [
    "<hr style=\"height:1px;border:none;color:#333;background-color:#333;\" /><br>\n",
    "<h2>Part III: Appending To The End Of A List</h2>\n",
    "\n",
    "As mentioned earlier, the <strong>.append(&nbsp;)</strong> method is designed to add items to the end of a list. This functionality is not easy to achieve with <em>.insert(&nbsp;)</em> as this method is intended to add something before an index value (it will shift the end of the list one place to the right).<br>\n",
    "\n",
    "<h4>Activity: Campus Locations</h4>\n",
    "Below is a list of 25 of the world's top cities. Your goal in this exercise is to filter this list so that it only contains cities that have a Hult campus.\n",
    "\n",
    "1. Instantiate <em>city_lst</em>.\n",
    "2. Create and instantiate a list of cities that have a Hult campus (&nbsp;<em>campus_lst</em>&nbsp;).\n",
    "3. Complete the code to compare <em>city_lst</em> and <em>campus_lst</em>, retaining the city names that are on both lists.\n",
    "<br><br>"
   ]
  },
  {
   "cell_type": "code",
   "execution_count": null,
   "metadata": {
    "deletable": false,
    "editable": false
   },
   "outputs": [],
   "source": [
    "# instantiating a list of the top 25 cities - 2022\n",
    "city_lst = [ \n",
    "[1, 'London']   , [2, 'Paris']     , [3, 'New York']        , [4, 'Lagos'],\n",
    "[5, 'Dubai']    , [6, 'Tokyo']     , [7, 'Singapore']       , [8, 'Los Angeles'],\n",
    "[9, 'Barcelona'], [10, 'Madrid']   , [11, 'Rome']           , [12 , 'Doha'],\n",
    "[13, 'Chicago'] , [14, 'Lima'], [15, 'San Francisco']  , [16, 'Amsterdam'],\n",
    "[17, 'Cairo'], [18, 'Toronto']   , [19, 'Sydney']  , [20, 'Berlin'],\n",
    "[21, 'Cape Town']     , [22, 'Buenos Aires'], [23, 'Nairobi'], [24, 'Vienna'],\n",
    "[25, 'Beijing']  ]"
   ]
  },
  {
   "cell_type": "markdown",
   "metadata": {
    "deletable": false,
    "editable": false,
    "run_control": {
     "frozen": true
    }
   },
   "source": [
    "<br>"
   ]
  },
  {
   "cell_type": "code",
   "execution_count": null,
   "metadata": {},
   "outputs": [],
   "source": [
    "# creating a list of all Hult campuses\n",
    "campus_lst = _____"
   ]
  },
  {
   "cell_type": "markdown",
   "metadata": {
    "deletable": false,
    "editable": false,
    "run_control": {
     "frozen": true
    }
   },
   "source": [
    "<br>"
   ]
  },
  {
   "cell_type": "code",
   "execution_count": null,
   "metadata": {},
   "outputs": [],
   "source": [
    "# placeholder object\n",
    "rank_lst = []\n",
    "\n",
    "\n",
    "# looping over city_lst\n",
    "for city in city_lst:\n",
    "    \n",
    "    # checking for matches\n",
    "    if _____ in campus_lst:\n",
    "        \n",
    "        # appending to the placeholder object \n",
    "        rank_lst._____(_____)\n",
    "\n",
    "\n",
    "# checking results\n",
    "print(_____)"
   ]
  },
  {
   "cell_type": "markdown",
   "metadata": {
    "deletable": false,
    "editable": false,
    "run_control": {
     "frozen": true
    }
   },
   "source": [
    "<hr style=\"height:.9px;border:none;color:#333;background-color:#333;\" />\n",
    "<hr style=\"height:.9px;border:none;color:#333;background-color:#333;\" /><br>\n",
    "\n",
    "~~~\n",
    "   ___                                      _____            _ \n",
    "  /___\\_ __   ___    /\\/\\   ___  _ __ ___  /__   \\___   ___ | |\n",
    " //  // '_ \\ / _ \\  /    \\ / _ \\| '__/ _ \\   / /\\/ _ \\ / _ \\| |\n",
    "/ \\_//| | | |  __/ / /\\/\\ \\ (_) | | |  __/  / / | (_) | (_) | |\n",
    "\\___/ |_| |_|\\___| \\/    \\/\\___/|_|  \\___|  \\/   \\___/ \\___/|_|\n",
    "                                                               \n",
    "  _____         _____ _                                        \n",
    "  \\_   \\_ __   /__   \\ |__   ___                               \n",
    "   / /\\/ '_ \\    / /\\/ '_ \\ / _ \\                              \n",
    "/\\/ /_ | | | |  / /  | | | |  __/                              \n",
    "\\____/ |_| |_|  \\/   |_| |_|\\___|                              \n",
    "                                                               \n",
    " _____            _ _                 _                        \n",
    "/__   \\___   ___ | | |__   _____  __ / \\                       \n",
    "  / /\\/ _ \\ / _ \\| | '_ \\ / _ \\ \\/ //  /                       \n",
    " / / | (_) | (_) | | |_) | (_) >  </\\_/                        \n",
    " \\/   \\___/ \\___/|_|_.__/ \\___/_/\\_\\/                          \n",
    "                                                                      \n",
    "~~~\n",
    "\n",
    "<br><hr style=\"height:.9px;border:none;color:#333;background-color:#333;\" />\n",
    "<hr style=\"height:.9px;border:none;color:#333;background-color:#333;\" />"
   ]
  },
  {
   "cell_type": "markdown",
   "metadata": {
    "cell_style": "center",
    "deletable": false,
    "editable": false,
    "run_control": {
     "frozen": true
    }
   },
   "source": [
    "<h2>Bonus: Tools for this Script</h2><br>\n",
    "In case you are interested, the following is the code I used when shuffling the phrases for <strong>Unscramble the Phrase</strong>."
   ]
  },
  {
   "cell_type": "code",
   "execution_count": null,
   "metadata": {
    "deletable": false,
    "editable": false
   },
   "outputs": [],
   "source": [
    "# importing the random package\n",
    "import random"
   ]
  },
  {
   "cell_type": "markdown",
   "metadata": {
    "deletable": false,
    "editable": false,
    "run_control": {
     "frozen": true
    }
   },
   "source": [
    "<br>"
   ]
  },
  {
   "cell_type": "code",
   "execution_count": null,
   "metadata": {
    "deletable": false,
    "editable": false
   },
   "outputs": [],
   "source": [
    "# creating a list\n",
    "my_lst = ['this', 'code', 'will', 'shuffle', 'a', 'list']\n",
    "\n",
    "# shuffling the list\n",
    "random.shuffle(my_lst)\n",
    "\n",
    "\n",
    "# printing the results\n",
    "print(my_lst)"
   ]
  },
  {
   "cell_type": "markdown",
   "metadata": {
    "deletable": false,
    "editable": false,
    "run_control": {
     "frozen": true
    }
   },
   "source": [
    "<br>"
   ]
  },
  {
   "cell_type": "markdown",
   "metadata": {
    "deletable": false,
    "editable": false,
    "run_control": {
     "frozen": true
    }
   },
   "source": [
    "<hr style=\"height:1px;border:none;color:#333;background-color:#333;\" />\n",
    "<br>\n",
    "The following is the code I used when removing vowels for <strong>Meet The Team At Hult</strong>."
   ]
  },
  {
   "cell_type": "code",
   "execution_count": null,
   "metadata": {
    "deletable": false,
    "editable": false
   },
   "outputs": [],
   "source": [
    "# placeholder object\n",
    "new_name = []\n",
    "\n",
    "# creating a list of vowels\n",
    "vowel_lst = ['a', 'e', 'i', 'o', 'u', 'y'] # sometimes 'y' is a vowel\n",
    "\n",
    "\n",
    "# this changes the name/position where vowels will be removed\n",
    "name_pos = list(\"Name - Position\")\n",
    "\n",
    "\n",
    "# looping over each letter in name_pos\n",
    "for letter in name_pos:\n",
    "    \n",
    "    # removing vowels from name_pos\n",
    "    if letter.casefold() not in vowel_lst:\n",
    "        new_name.append(letter)\n",
    "        \n",
    "\n",
    "# printing the result\n",
    "print(new_name)\n",
    "    \n",
    "\n",
    "# looping over each letter in name_pos to print the result\n",
    "for letter in new_name:\n",
    "    print(letter, end = '')"
   ]
  },
  {
   "cell_type": "markdown",
   "metadata": {
    "deletable": false,
    "editable": false,
    "run_control": {
     "frozen": true
    }
   },
   "source": [
    "<br>"
   ]
  }
 ],
 "metadata": {
  "kernelspec": {
   "display_name": "Python 3 (ipykernel)",
   "language": "python",
   "name": "python3"
  },
  "language_info": {
   "codemirror_mode": {
    "name": "ipython",
    "version": 3
   },
   "file_extension": ".py",
   "mimetype": "text/x-python",
   "name": "python",
   "nbconvert_exporter": "python",
   "pygments_lexer": "ipython3",
   "version": "3.11.8"
  },
  "toc": {
   "base_numbering": 1,
   "nav_menu": {},
   "number_sections": false,
   "sideBar": true,
   "skip_h1_title": false,
   "title_cell": "Table of Contents",
   "title_sidebar": "Contents",
   "toc_cell": false,
   "toc_position": {},
   "toc_section_display": true,
   "toc_window_display": false
  },
  "varInspector": {
   "cols": {
    "lenName": 16,
    "lenType": 16,
    "lenVar": 40
   },
   "kernels_config": {
    "python": {
     "delete_cmd_postfix": "",
     "delete_cmd_prefix": "del ",
     "library": "var_list.py",
     "varRefreshCmd": "print(var_dic_list())"
    },
    "r": {
     "delete_cmd_postfix": ") ",
     "delete_cmd_prefix": "rm(",
     "library": "var_list.r",
     "varRefreshCmd": "cat(var_dic_list()) "
    }
   },
   "position": {
    "height": "143.6px",
    "left": "1166px",
    "right": "20px",
    "top": "119px",
    "width": "350px"
   },
   "types_to_exclude": [
    "module",
    "function",
    "builtin_function_or_method",
    "instance",
    "_Feature"
   ],
   "window_display": false
  }
 },
 "nbformat": 4,
 "nbformat_minor": 4
}
