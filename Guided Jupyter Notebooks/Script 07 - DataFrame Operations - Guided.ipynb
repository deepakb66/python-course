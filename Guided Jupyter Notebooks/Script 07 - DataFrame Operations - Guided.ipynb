{
 "cells": [
  {
   "cell_type": "markdown",
   "metadata": {
    "deletable": false,
    "editable": false,
    "run_control": {
     "frozen": true
    }
   },
   "source": [
    "<hr style=\"height:.9px;border:none;color:#333;background-color:#333;\" />\n",
    "<hr style=\"height:.9px;border:none;color:#333;background-color:#333;\" />\n",
    "<br>\n",
    "<h1>DataFrame Operations and Anomaly Detection</h1>\n",
    "<em>Introduction to Python | In-Class Script</em><br><br>\n",
    "\n",
    "Prof. Chase Kusterer - Faculty of Analytics <br>\n",
    "Hult International Business School <br>\n",
    "<a href=\"https://github.com/chase-kusterer\">https://github.com/chase-kusterer</a> <br><br><br><br><br>\n",
    "<hr style=\"height:.9px;border:none;color:#333;background-color:#333;\" />\n",
    "<hr style=\"height:.9px;border:none;color:#333;background-color:#333;\" />\n",
    "<br>\n",
    "<h2>Part I: Practice - Importing Excel Data into Python</h2>\n",
    "In the previous script, we learned how to import data into Python using the <strong>read_excel(&nbsp;)</strong> method from <em>pandas</em>. Every time we launch a Python script or a Jupyter Notebook, our working environment gets reset and we need to perform these steps one more time. To start off this script, you are tasked with importing the data.\n",
    "<br><br>\n",
    "<h4>S12.1.1) Import pandas and the diamonds dataset.</h4>\n",
    "Import pandas as pd. Then, import the dataset, which is on the \"diamonds\" sheet of the Excel file. Make sure to specify the index for the row where feature labels are located."
   ]
  },
  {
   "cell_type": "code",
   "execution_count": null,
   "metadata": {},
   "outputs": [],
   "source": [
    "## Session 12.1.1 ##\n",
    "\n",
    "# importing packages as pd\n",
    "import ____ as ____\n",
    "\n",
    "\n",
    "# storing the path to the dataset\n",
    "file = \"____\"\n",
    "\n",
    "\n",
    "# reading the file into Python through pandas\n",
    "diamonds = pd.____(io         =  ____,\n",
    "                   sheet_name = '____',\n",
    "                   header     =  ____)\n",
    "\n",
    "\n",
    "# checking results (first TEN rows of the dataset)\n",
    "diamonds._____(n = _____)"
   ]
  },
  {
   "cell_type": "markdown",
   "metadata": {
    "deletable": false,
    "editable": false,
    "run_control": {
     "frozen": true
    }
   },
   "source": [
    "<hr style=\"height:.9px;border:none;color:#333;background-color:#333;\" /><br>\n",
    "<h2>Part II: Auditing Data Quality - Fixing Features</h2>\n",
    "\n",
    "Now that the diamonds dataset has been instantiated, its methods can be accessed using method chaining. All DataFrame methods can be accessed using <strong>help(pd.DataFrame)</strong>. After import, a common step in the analytical process is to audit data quality. The following DataFrame methods are critical for this task, and they will also help to validate many of the assumptions from the <em>Finding the \"Best\" Diamond on a Budget</em> case study.\n",
    "\n",
    "* <a href=\"https://pandas.pydata.org/pandas-docs/stable/reference/api/pandas.DataFrame.info.html\">.info(&nbsp;)</a>\n",
    "* <a href=\"https://pandas.pydata.org/pandas-docs/stable/reference/api/pandas.DataFrame.describe.html\">.describe(&nbsp;)</a>\n",
    "* <a href=\"https://pandas.pydata.org/pandas-docs/stable/reference/api/pandas.DataFrame.value_counts.html\">.value_counts(&nbsp;)</a>\n",
    "\n",
    "<br>\n",
    "Each method will be explored throughout this script, starting with <strong>.info(&nbsp;)</strong>. This method gives us key information related to the label, count, and data type of each column, as well as the size of the DataFrame in terms of memory usage (beyond the scope of this course)."
   ]
  },
  {
   "cell_type": "code",
   "execution_count": null,
   "metadata": {
    "cell_style": "center",
    "deletable": false,
    "editable": false
   },
   "outputs": [],
   "source": [
    "## Session 12.2.1 ##\n",
    "\n",
    "# analyzing info related to each feature\n",
    "diamonds.info(verbose = True)"
   ]
  },
  {
   "cell_type": "markdown",
   "metadata": {
    "cell_style": "center",
    "deletable": false,
    "editable": false,
    "run_control": {
     "frozen": true
    }
   },
   "source": [
    "<br>"
   ]
  },
  {
   "cell_type": "markdown",
   "metadata": {
    "cell_style": "center",
    "deletable": false,
    "editable": false,
    "run_control": {
     "frozen": true
    }
   },
   "source": [
    "<div style = \"width:image width px; font-size:80%; text-align:center;\"><img src=\"./__script_images/chapter-X3-breakdown-of-info().png\" width=\"500\" height=\"500\" style=\"padding-bottom:0.5em;\"> <em>Figure 12.1: Breaking down .info(&nbsp;).</em></div>"
   ]
  },
  {
   "cell_type": "markdown",
   "metadata": {
    "deletable": false,
    "editable": false,
    "run_control": {
     "frozen": true
    }
   },
   "source": [
    "<br>\n",
    "<h4>S12.2.2) From the output above, which features seem to have improper data types?</h4>\n",
    "Remember to check the <a href=\"miller_mds_two_months_salary_case.pdf\">documentation on the diamonds dataset</a> as needed."
   ]
  },
  {
   "cell_type": "code",
   "execution_count": null,
   "metadata": {},
   "outputs": [],
   "source": [
    "## Session 12.2.2 ##\n",
    "\n",
    "# features with improper data types\n",
    "____\n",
    "\n",
    "\n",
    "# Rationale for above\n",
    "\"\"\"\n",
    "____\n",
    "\"\"\""
   ]
  },
  {
   "cell_type": "markdown",
   "metadata": {
    "deletable": false,
    "editable": false,
    "run_control": {
     "frozen": true
    }
   },
   "source": [
    "<br>\n",
    "\n",
    "~~~\n",
    "\n",
    "  ..---..       ..---..       ..---..       ..---..       ..---..\n",
    " /       \\     /       \\     /       \\     /       \\     /       \\\n",
    "|         |   |         |   |         |   |         |   |         |\n",
    ":         ;   :         ;   :         ;   :         ;   :         ;\n",
    " \\  \\~/  /     \\  \\~/  /     \\  \\~/  /     \\  \\~/  /     \\  \\~/  /\n",
    "  `, Y ,'       `, Y ,'       `, Y ,'       `, Y ,'       `, Y ,'\n",
    "   |_|_|         |_|_|         |_|_|         |_|_|         |_|_|\n",
    "   |===|         |===|         |===|         |===|         |===|\n",
    "   |===|         |===|         |===|         |===|         |===|\n",
    "    \\_/           \\_/           \\_/           \\_/           \\_/\n",
    "~~~"
   ]
  },
  {
   "cell_type": "markdown",
   "metadata": {
    "deletable": false,
    "editable": false,
    "run_control": {
     "frozen": true
    }
   },
   "source": [
    "<hr style=\"height:.9px;border:none;color:#333;background-color:#333;\" /><br>\n",
    "<h3>Fixing Data Types</h3>\n",
    "Making changes to data types in Python can be done with ease with the use of a <a href=\"https://docs.python.org/3/tutorial/datastructures.html#dictionaries\">dictionary</a>. A guideline for developing such a tool can be found below. Note that we only need to specify the <em>{feature : data type}</em> of the features we would like to change. Also note that once we have analyzed the results of <strong>.info(&nbsp;)</strong> and understand which data types to convert, we generally apply this in the same step as when we import the data.<br><br>\n",
    "\n",
    "~~~\n",
    "{\"feature\" : data type,     # feature 1\n",
    " \"feature\" : data type,     # feature 2\n",
    " ...}                       # and so on\n",
    "~~~\n",
    "\n",
    "<br>\n"
   ]
  },
  {
   "cell_type": "markdown",
   "metadata": {
    "deletable": false,
    "editable": false,
    "run_control": {
     "frozen": true
    }
   },
   "source": [
    "<hr style=\"height:.9px;border:none;color:#333;background-color:#333;\" />\n",
    "<h4>S12.2.3) Convert data types as indicated by the table below.</h4>\n",
    "Complete the code to create a data type dictionary. Then, import the diamonds dataset one more time, reading in the data types using the <em>dtypes</em> argument from <strong>pd.read_excel(&nbsp;)</strong>. Note that <em>Obs</em> is not listed as it is not going to be used going forward (its ordering is arbitrary and it should not be used in our analysis). Call help on <strong>pd.read_excel(&nbsp;)</strong> to discover which argument can be applied to avoid importing <em>Obs</em>.\n",
    "<br><br>\n",
    "<div style = \"width:image width px; font-size:80%; text-align:center;\">\n",
    "<table align=\"center\">\n",
    "<col width=\"100\">\n",
    "<col width=\"10\">   \n",
    "<col width=\"100\">\n",
    "    <tr>\n",
    "        <th>Feature</th>\n",
    "        <th>    | </th>\n",
    "        <th>Original Type</th>\n",
    "        <th>    | </th>\n",
    "        <th>New Type</th>\n",
    "        <th>    | </th>\n",
    "        <th>Rationale for Change</th>\n",
    "    </tr>\n",
    "    <tr>\n",
    "        <td>channel</td>\n",
    "        <td>    | </td>\n",
    "        <td> int</td>\n",
    "        <td>    | </td>\n",
    "        <td> str</td>\n",
    "        <td>    | </td>\n",
    "        <td> feature is categorical (pre-processing step)</td>\n",
    "    </tr>\n",
    "    <tr>\n",
    "        <td>store</td>\n",
    "        <td>    | </td>\n",
    "        <td> int</td>\n",
    "        <td>    | </td>\n",
    "        <td> str</td>\n",
    "        <td>    | </td>\n",
    "        <td> feature is categorical (pre-processing step)</td>\n",
    "    </tr>   \n",
    "    \n",
    "          Table 14.1: Sample documentation for data type changes.\n",
    "</table></div><br>"
   ]
  },
  {
   "cell_type": "code",
   "execution_count": null,
   "metadata": {
    "deletable": false,
    "editable": false
   },
   "outputs": [],
   "source": [
    "## Session 12.2.3 ##\n",
    "\n",
    "# calling help on pd.read_excel()\n",
    "help(pd.read_excel)"
   ]
  },
  {
   "cell_type": "markdown",
   "metadata": {
    "deletable": false,
    "editable": false,
    "run_control": {
     "frozen": true
    }
   },
   "source": [
    "<br>"
   ]
  },
  {
   "cell_type": "code",
   "execution_count": null,
   "metadata": {},
   "outputs": [],
   "source": [
    "## Session 12.2.4 ##\n",
    "\n",
    "# converting data types with a dictionary\n",
    "data_types = {\"channel\" : ____,\n",
    "              ____      : ____}\n",
    "\n",
    "\n",
    "# instantiating the dataset as an object\n",
    "diamonds = pd.read_excel(io         = file      ,       \n",
    "                         ____       = 'diamonds', \n",
    "                         header     = ____      ,          \n",
    "                         dtype      = data_types,   # applying new data types\n",
    "                         _____      = range(1, 8) ) # range object\n",
    "\n",
    "\n",
    "# checking results\n",
    "diamonds.____(_____)"
   ]
  },
  {
   "cell_type": "markdown",
   "metadata": {
    "deletable": false,
    "editable": false,
    "run_control": {
     "frozen": true
    }
   },
   "source": [
    "<hr style=\"height:.9px;border:none;color:#333;background-color:#333;\" /><br>\n",
    "Notice that Python interpreted the string conversions as type <em>object</em>. This is normal, and stems from the fact that strings are the most fundamental of data types in Python. When Python is confused about a feature's data type, such as when a string conversion takes place, it defaults to type <em>object</em>. This is because strings can represent virtually anything.\n",
    "<br>"
   ]
  },
  {
   "cell_type": "markdown",
   "metadata": {
    "deletable": false,
    "editable": false,
    "run_control": {
     "frozen": true
    }
   },
   "source": [
    "<br><h2>Part III: Analyzing Anomalies with Descriptive Statistics</h2>\n",
    "\n",
    "In general, our objectives with <strong>.describe(&nbsp;)</strong> are to address the following questions:\n",
    "\n",
    "* Does the data align with its documentation?\n",
    "* Are there any extreme values skewing the distribution of any features?\n",
    "\n",
    "<br>\n",
    "Additionally, we can seek to validate assumptions that were made in the <em>Finding the \"Best\" Diamond on a Budget</em> case study, such as:\n",
    "\n",
    "* Is $5,795 a reasonable amount for a normal citizen of Chicago? In other words, is it close to the center of the distribution for price?\n",
    "* Can a 5 on the color scale be perceived as normal? What about clarity? In other words, do these characteristics reflect what a normal diamond should look like?\n",
    "\n",
    "<br>\n",
    "<h3>Basic Use of .describe(&nbsp;)</h3>\n",
    "\n",
    "As its name implies, the <strong>.describe(&nbsp;)</strong> method generates a set of descriptive statistics to help us better understand our data. In its most basic form, it will output statistics for all features that are of numeric types."
   ]
  },
  {
   "cell_type": "code",
   "execution_count": null,
   "metadata": {
    "deletable": false,
    "editable": false
   },
   "outputs": [],
   "source": [
    "## Session 12.3.1 ##\n",
    "\n",
    "# crude example of .describe()\n",
    "diamonds.describe()"
   ]
  },
  {
   "cell_type": "markdown",
   "metadata": {
    "deletable": false,
    "editable": false,
    "run_control": {
     "frozen": true
    }
   },
   "source": [
    "<hr style=\"height:.9px;border:none;color:#333;background-color:#333;\" /><br>\n",
    "We're off to a good start, but it is highly recommended that we reduce the number of decimal places being outputted as <strong><font style=\"color:red\">an unnecessary degree of precision is another form of data dumping.</font></strong> Note, however, that since the type conversions conducted earlier were successful, <em>channel</em>, and <em>store</em> have been omitted from this table, thus alleviating us from getting distracted with irrelevant information.\n",
    "<br><br>\n",
    "<h3>Properly Applying .describe(&nbsp;)</h3>\n",
    "\n",
    "The <strong>.describe(&nbsp;)</strong> method can be broken down into two parts: 1) Descriptive statistics for numeric data, and 2) Summary information for non-numeric data.\n",
    "<br><br>\n",
    "<h4>S12.3.2) Complete the code below to output descriptive statistics related to the numeric features of the diamonds dataset, rounded to two decimal places.</h4>"
   ]
  },
  {
   "cell_type": "code",
   "execution_count": null,
   "metadata": {},
   "outputs": [],
   "source": [
    "## Session 12.3.2 ##\n",
    "\n",
    "# descriptive statistics on numeric columns\n",
    "____.____(include = 'number').____(decimals = 2)"
   ]
  },
  {
   "cell_type": "markdown",
   "metadata": {
    "deletable": false,
    "editable": false,
    "run_control": {
     "frozen": true
    }
   },
   "source": [
    "<br>\n",
    "The output above is much cleaner, allowing us to analyze its information more efficiently. This table is also far more presentable, helping to show that we are organized and not cutting corners throughout our analysis. Now, let's run <strong>.describe(&nbsp;)</strong> on the non-numeric features of the dataset.\n",
    "<br><br>\n",
    "<hr style=\"height:.9px;border:none;color:#333;background-color:#333;\" /><br>\n",
    "<h4>S12.3.3) Complete the code below to output frequency information related to the non-numeric features of the diamonds dataset.</h4>\n",
    "Note that you do not need to round the results."
   ]
  },
  {
   "cell_type": "code",
   "execution_count": null,
   "metadata": {},
   "outputs": [],
   "source": [
    "## Session 12.3.3 ##\n",
    "\n",
    "# descriptive statistics on non-numeric columns\n",
    "____"
   ]
  },
  {
   "cell_type": "markdown",
   "metadata": {
    "deletable": false,
    "editable": false,
    "run_control": {
     "frozen": true
    }
   },
   "source": [
    "<br>"
   ]
  },
  {
   "cell_type": "markdown",
   "metadata": {
    "cell_style": "split",
    "deletable": false,
    "editable": false,
    "run_control": {
     "frozen": true
    }
   },
   "source": [
    "The output above does not provide a high degree of information related to the dataset's non-numeric features. For this reason, we generally also rely on the <em>pandas</em> Series method <a href=\"https://pandas.pydata.org/pandas-docs/stable/reference/api/pandas.DataFrame.value_counts.html\">.value_counts(&nbsp;)</a>. This method works with both numeric and non-numeric data."
   ]
  },
  {
   "cell_type": "markdown",
   "metadata": {
    "cell_style": "split",
    "deletable": false,
    "editable": false,
    "run_control": {
     "frozen": true
    }
   },
   "source": [
    "\n",
    "<div style = \"width:image width px; font-size:80%; text-align:center;\"><img src=\"./__script_images/chapter-X3-object-describe-table.png\" width=\"400\" height=\"400\" style=\"padding-bottom:0.5em;\"> <em>Figure 12.2: Explanation of .describe(&nbsp;) for non-numeric data.</em></div>\n"
   ]
  },
  {
   "cell_type": "markdown",
   "metadata": {
    "deletable": false,
    "editable": false,
    "run_control": {
     "frozen": true
    }
   },
   "source": [
    "<br>\n",
    "<hr style=\"height:.9px;border:none;color:#333;background-color:#333;\" /><br>\n",
    "<h4>S12.3.3) Apply .value_counts(&nbsp;) to channel.</h4>\n",
    "Leave the optional arguments as they are when developing your code. Does it appear that each channel has equal representation in the dataset? What does this imply?"
   ]
  },
  {
   "cell_type": "code",
   "execution_count": null,
   "metadata": {
    "cell_style": "center"
   },
   "outputs": [],
   "source": [
    "## Session 12.3.4 ##\n",
    "\n",
    "# applying value_counts to channel\n",
    "diamonds[____].____(normalize = False,\n",
    "                    sort      = False,\n",
    "                    ascending = False)"
   ]
  },
  {
   "cell_type": "markdown",
   "metadata": {
    "deletable": false,
    "editable": false,
    "run_control": {
     "frozen": true
    }
   },
   "source": [
    "<hr style=\"height:.9px;border:none;color:#333;background-color:#333;\" /><br>\n",
    "<h4>S12.3.4) Apply .value_counts(&nbsp;) to store.</h4>\n",
    "Set the sort argument to True. Do any of the stores have less than 30 observations?"
   ]
  },
  {
   "cell_type": "code",
   "execution_count": null,
   "metadata": {},
   "outputs": [],
   "source": [
    "## Session 12.3.5 ##\n",
    "\n",
    "# applying value_counts to channel\n",
    "____[____].____(normalize = False, # percentages\n",
    "                sort      = ____ , # sort by frequencies\n",
    "                ascending = False) # smallest value on top?"
   ]
  },
  {
   "cell_type": "markdown",
   "metadata": {
    "deletable": false,
    "editable": false,
    "run_control": {
     "frozen": true
    }
   },
   "source": [
    "<hr style=\"height:.9px;border:none;color:#333;background-color:#333;\" /><br>\n",
    "<h4>S12.3.5) Apply .value_counts(&nbsp;) to color.</h4>\n",
    "Set the normalize argument to True and round the results to three decimal places. Does it appear that this feature is (relatively) normally distributed?"
   ]
  },
  {
   "cell_type": "code",
   "execution_count": null,
   "metadata": {},
   "outputs": [],
   "source": [
    "## Session 12.3.6 ##\n",
    "\n",
    "# applying value_counts to color\n",
    "____[____].____(normalize = ____ ,\n",
    "                sort      = False,\n",
    "                ascending = False).____(decimals = ____)\\\n",
    "                                  .sort_index(axis = 0, # sorting index\n",
    "                                              ascending = True)"
   ]
  },
  {
   "cell_type": "markdown",
   "metadata": {
    "deletable": false,
    "editable": false,
    "run_control": {
     "frozen": true
    }
   },
   "source": [
    "<hr style=\"height:.9px;border:none;color:#333;background-color:#333;\" /><br>\n",
    "<h4>S12.3.6) Apply .value_counts(&nbsp;) to clarity.</h4>\n",
    "Set the normalize argument to True and round the results to two decimal places. Does it appear that this feature is (relatively) normally distributed?"
   ]
  },
  {
   "cell_type": "code",
   "execution_count": null,
   "metadata": {},
   "outputs": [],
   "source": [
    "## Session 12.3.7 ##\n",
    "\n",
    "# applying value_counts to clarity\n",
    "____"
   ]
  },
  {
   "cell_type": "markdown",
   "metadata": {
    "deletable": false,
    "editable": false,
    "run_control": {
     "frozen": true
    }
   },
   "source": [
    "~~~\n",
    "\n",
    "\n",
    "          _____          \n",
    "         /\\    \\         \n",
    "        /::\\    \\        \n",
    "       /::::\\    \\       \n",
    "      /::::::\\    \\      \n",
    "     /:::/\\:::\\    \\     \n",
    "    /:::/__\\:::\\    \\    \n",
    "   /::::\\   \\:::\\    \\   \n",
    "  /::::::\\   \\:::\\    \\  \n",
    " /:::/\\:::\\   \\:::\\    \\ \n",
    "/:::/  \\:::\\   \\:::\\____\\\n",
    "\\::/    \\:::\\   \\::/    /\n",
    " \\/____/ \\:::\\   \\/____/ \n",
    "          \\:::\\    \\     \n",
    "           \\:::\\____\\    \n",
    "            \\::/    /    \n",
    "             \\/____/     \n",
    "                         \n",
    "                         \n",
    "                         \n",
    "                         \n",
    "                         \n",
    "          _____          \n",
    "         /\\    \\         \n",
    "        /::\\    \\        \n",
    "       /::::\\    \\       \n",
    "      /::::::\\    \\      \n",
    "     /:::/\\:::\\    \\     \n",
    "    /:::/__\\:::\\    \\    \n",
    "   /::::\\   \\:::\\    \\   \n",
    "  /::::::\\   \\:::\\    \\  \n",
    " /:::/\\:::\\   \\:::\\    \\ \n",
    "/:::/  \\:::\\   \\:::\\____\\\n",
    "\\::/    \\:::\\  /:::/    /\n",
    " \\/____/ \\:::\\/:::/    / \n",
    "          \\::::::/    /  \n",
    "           \\::::/    /   \n",
    "           /:::/    /    \n",
    "          /:::/    /     \n",
    "         /:::/    /      \n",
    "        /:::/    /       \n",
    "        \\::/    /        \n",
    "         \\/____/         \n",
    "                         \n",
    "          _____          \n",
    "         /\\    \\         \n",
    "        /::\\____\\        \n",
    "       /::::|   |        \n",
    "      /:::::|   |        \n",
    "     /::::::|   |        \n",
    "    /:::/|::|   |        \n",
    "   /:::/ |::|   |        \n",
    "  /:::/  |::|   | _____  \n",
    " /:::/   |::|   |/\\    \\ \n",
    "/:: /    |::|   /::\\____\\\n",
    "\\::/    /|::|  /:::/    /\n",
    " \\/____/ |::| /:::/    / \n",
    "         |::|/:::/    /  \n",
    "         |::::::/    /   \n",
    "         |:::::/    /    \n",
    "         |::::/    /     \n",
    "         /:::/    /      \n",
    "        /:::/    /       \n",
    "        \\::/    /        \n",
    "         \\/____/         \n",
    "                         \n",
    "      _____              \n",
    "     /\\    \\             \n",
    "    /::\\    \\            \n",
    "    \\:::\\    \\           \n",
    "     \\:::\\    \\          \n",
    "      \\:::\\    \\         \n",
    "       \\:::\\    \\        \n",
    "       /::::\\    \\       \n",
    "      /::::::\\    \\      \n",
    "     /:::/\\:::\\    \\     \n",
    "    /:::/  \\:::\\____\\    \n",
    "   /:::/    \\::/    /    \n",
    "  /:::/    / \\/____/     \n",
    " /:::/    /              \n",
    "/:::/    /               \n",
    "\\::/    /                \n",
    " \\/____/                 \n",
    "                         \n",
    "                         \n",
    "                         \n",
    "                         \n",
    "                         \n",
    "          _____          \n",
    "         /\\    \\         \n",
    "        /::\\    \\        \n",
    "       /::::\\    \\       \n",
    "      /::::::\\    \\      \n",
    "     /:::/\\:::\\    \\     \n",
    "    /:::/__\\:::\\    \\    \n",
    "   /::::\\   \\:::\\    \\   \n",
    "  /::::::\\   \\:::\\    \\  \n",
    " /:::/\\:::\\   \\:::\\    \\ \n",
    "/:::/  \\:::\\   \\:::\\____\\\n",
    "\\::/    \\:::\\  /:::/    /\n",
    " \\/____/ \\:::\\/:::/    / \n",
    "          \\::::::/    /  \n",
    "           \\::::/    /   \n",
    "           /:::/    /    \n",
    "          /:::/    /     \n",
    "         /:::/    /      \n",
    "        /:::/    /       \n",
    "        \\::/    /        \n",
    "         \\/____/         \n",
    "                         \n",
    "          _____          \n",
    "         /\\    \\         \n",
    "        /::\\    \\        \n",
    "       /::::\\    \\       \n",
    "      /::::::\\    \\      \n",
    "     /:::/\\:::\\    \\     \n",
    "    /:::/__\\:::\\    \\    \n",
    "    \\:::\\   \\:::\\    \\   \n",
    "  ___\\:::\\   \\:::\\    \\  \n",
    " /\\   \\:::\\   \\:::\\    \\ \n",
    "/::\\   \\:::\\   \\:::\\____\\\n",
    "\\:::\\   \\:::\\   \\::/    /\n",
    " \\:::\\   \\:::\\   \\/____/ \n",
    "  \\:::\\   \\:::\\    \\     \n",
    "   \\:::\\   \\:::\\____\\    \n",
    "    \\:::\\  /:::/    /    \n",
    "     \\:::\\/:::/    /     \n",
    "      \\::::::/    /      \n",
    "       \\::::/    /       \n",
    "        \\::/    /        \n",
    "         \\/____/         \n",
    "                         \n",
    "      _____              \n",
    "     /\\    \\             \n",
    "    /::\\    \\            \n",
    "    \\:::\\    \\           \n",
    "     \\:::\\    \\          \n",
    "      \\:::\\    \\         \n",
    "       \\:::\\    \\        \n",
    "       /::::\\    \\       \n",
    "      /::::::\\    \\      \n",
    "     /:::/\\:::\\    \\     \n",
    "    /:::/  \\:::\\____\\    \n",
    "   /:::/    \\::/    /    \n",
    "  /:::/    / \\/____/     \n",
    " /:::/    /              \n",
    "/:::/    /               \n",
    "\\::/    /                \n",
    " \\/____/                 \n",
    "                         \n",
    "                         \n",
    "                         \n",
    "                         \n",
    "                         \n",
    "          _____          \n",
    "         /\\    \\         \n",
    "        /::\\    \\        \n",
    "        \\:::\\    \\       \n",
    "         \\:::\\    \\      \n",
    "          \\:::\\    \\     \n",
    "           \\:::\\    \\    \n",
    "           /::::\\    \\   \n",
    "  ____    /::::::\\    \\  \n",
    " /\\   \\  /:::/\\:::\\    \\ \n",
    "/::\\   \\/:::/  \\:::\\____\\\n",
    "\\:::\\  /:::/    \\::/    /\n",
    " \\:::\\/:::/    / \\/____/ \n",
    "  \\::::::/    /          \n",
    "   \\::::/____/           \n",
    "    \\:::\\    \\           \n",
    "     \\:::\\    \\          \n",
    "      \\:::\\    \\         \n",
    "       \\:::\\____\\        \n",
    "        \\::/    /        \n",
    "         \\/____/         \n",
    "                         \n",
    "          _____          \n",
    "         /\\    \\         \n",
    "        /::\\    \\        \n",
    "       /::::\\    \\       \n",
    "      /::::::\\    \\      \n",
    "     /:::/\\:::\\    \\     \n",
    "    /:::/  \\:::\\    \\    \n",
    "   /:::/    \\:::\\    \\   \n",
    "  /:::/    / \\:::\\    \\  \n",
    " /:::/    /   \\:::\\    \\ \n",
    "/:::/____/     \\:::\\____\\\n",
    "\\:::\\    \\      \\::/    /\n",
    " \\:::\\    \\      \\/____/ \n",
    "  \\:::\\    \\             \n",
    "   \\:::\\    \\            \n",
    "    \\:::\\    \\           \n",
    "     \\:::\\    \\          \n",
    "      \\:::\\    \\         \n",
    "       \\:::\\____\\        \n",
    "        \\::/    /        \n",
    "         \\/____/         \n",
    "                         \n",
    "\n",
    "\n",
    "~~~"
   ]
  },
  {
   "cell_type": "markdown",
   "metadata": {
    "deletable": false,
    "editable": false,
    "run_control": {
     "frozen": true
    }
   },
   "source": [
    "<br>"
   ]
  }
 ],
 "metadata": {
  "kernelspec": {
   "display_name": "Python 3 (ipykernel)",
   "language": "python",
   "name": "python3"
  },
  "language_info": {
   "codemirror_mode": {
    "name": "ipython",
    "version": 3
   },
   "file_extension": ".py",
   "mimetype": "text/x-python",
   "name": "python",
   "nbconvert_exporter": "python",
   "pygments_lexer": "ipython3",
   "version": "3.11.8"
  },
  "toc": {
   "base_numbering": 1,
   "nav_menu": {},
   "number_sections": false,
   "sideBar": true,
   "skip_h1_title": false,
   "title_cell": "Table of Contents",
   "title_sidebar": "Contents",
   "toc_cell": false,
   "toc_position": {},
   "toc_section_display": true,
   "toc_window_display": false
  },
  "varInspector": {
   "cols": {
    "lenName": 16,
    "lenType": 16,
    "lenVar": 40
   },
   "kernels_config": {
    "python": {
     "delete_cmd_postfix": "",
     "delete_cmd_prefix": "del ",
     "library": "var_list.py",
     "varRefreshCmd": "print(var_dic_list())"
    },
    "r": {
     "delete_cmd_postfix": ") ",
     "delete_cmd_prefix": "rm(",
     "library": "var_list.r",
     "varRefreshCmd": "cat(var_dic_list()) "
    }
   },
   "types_to_exclude": [
    "module",
    "function",
    "builtin_function_or_method",
    "instance",
    "_Feature"
   ],
   "window_display": false
  }
 },
 "nbformat": 4,
 "nbformat_minor": 4
}
