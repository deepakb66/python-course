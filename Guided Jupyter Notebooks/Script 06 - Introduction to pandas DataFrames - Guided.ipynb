{
 "cells": [
  {
   "cell_type": "markdown",
   "metadata": {
    "cell_style": "center",
    "deletable": false,
    "editable": false,
    "run_control": {
     "frozen": true
    }
   },
   "source": [
    "<hr style=\"height:.9px;border:none;color:#333;background-color:#333;\" />\n",
    "<hr style=\"height:.9px;border:none;color:#333;background-color:#333;\" />\n",
    "<br>\n",
    "<h1>Introduction to <em>pandas</em> DataFrames</h1>\n",
    "<em>Introduction to Python | In-Class Script</em><br><br>\n",
    "\n",
    "Written by Chase Kusterer - Faculty of Analytics <br>\n",
    "Hult International Business School <br>\n",
    "<a href=\"https://github.com/chase-kusterer\">https://github.com/chase-kusterer</a> <br><br><br><br><br>\n",
    "<hr style=\"height:.9px;border:none;color:#333;background-color:#333;\" />\n",
    "<hr style=\"height:.9px;border:none;color:#333;background-color:#333;\" />\n",
    "<br>\n",
    "<h2>Part 1: Importing Excel Data into Python</h2>\n",
    "Earlier, we learned several useful techniques related to operating on lists. <strong>DataFrames</strong>, which resemble Excel spreadsheets, are slightly more complicated as unlike lists, they are multidimensional. In other words, lists can be thought of as a single row of data, whereas <strong>DataFrames</strong> consist of rows and columns. There are hundreds of DataFrame methods, which can be found in the official  <a href=\"https://pandas.pydata.org/pandas-docs/stable/reference/api/pandas.DataFrame.html\">Python documentation</a>.\n",
    "<br><br><br>\n",
    "<hr style=\"height:.9px;border:none;color:#333;background-color:#333;\" />\n",
    "<h3>The Two Month's Salary Challenge</h3><br>\n",
    "The content of this chapter is reliant on a simple yet elegant dataset. This dataset has been published in <a href=\"https://www.amazon.com/Marketing-Data-Science-Techniques-Predictive/dp/0133886557\">Marketing Data Science - Modeling Techniques in Predictive Analytics with R and Python</a>, written by Dr. Thomas Miller of Northwestern University. As such, it is fitting to allow Dr. Miller to introduce this dataset, as well as the two month's salary challenge:\n",
    "<br>\n",
    "<p><em>I never understood why giving a diamond was the social norm when proposing\n",
    "marriage. As I began searching for an engagement ring, two thoughts\n",
    "kept racing through my mind: “How will I be able to find the right diamond?”\n",
    "and “What is this thing going to cost me?” It goes without saying\n",
    "that my fianc´ee-to-be is worth the expense, but very seldom in our lives do\n",
    "    we spend two month’s salary on a product we know so little about. </em><a href=\"miller_mds_two_months_salary_case.pdf\">Click here to continue reading</a>.</p>\n",
    "<br>\n",
    "<hr style=\"height:.9px;border:none;color:#333;background-color:#333;\" />"
   ]
  },
  {
   "cell_type": "markdown",
   "metadata": {
    "deletable": false,
    "editable": false,
    "run_control": {
     "frozen": true
    }
   },
   "source": [
    "<h4>11.1.1) Basic Import of Excel Data</h4>\n",
    "The <em>pandas</em> package has an excellent method to help us import Excel-style data into Python. This method, <a href=\"https://pandas.pydata.org/pandas-docs/stable/reference/api/pandas.read_excel.html\">read_excel(&nbsp;)</a>, has a number of optional arguments designed to make our lives easier. To begin, let's import <em>pandas</em> as <em>pd</em> and then read in the dataset with <strong>pd.read_excel(&nbsp;)</strong>.\n",
    "<br><br>\n",
    "The steps for this process are as follows:<br>\n",
    "<font>\n",
    "&emsp;1. Import <em>pandas</em>.<br>\n",
    "&emsp;2. Specify the location of the data.*<br>\n",
    "&emsp;3. Use read_excel(&nbsp;) to read in the data.</font>\n",
    "\n",
    "<font>*The Excel file should be stored in the same place as this Jupyter notebook.</font>"
   ]
  },
  {
   "cell_type": "code",
   "execution_count": null,
   "metadata": {},
   "outputs": [],
   "source": [
    "## Session 11.1.1 ##\n",
    "\n",
    "# Step 1: importing packages (always at beginning of analysis)\n",
    "import pandas   as pd\n",
    "import warnings\n",
    "\n",
    "\n",
    "# Step 2: storing the path to the dataset\n",
    "file = _____\n",
    "\n",
    "\n",
    "# Step 3: reading the file into Python through pandas\n",
    "diamonds = pd.read_excel(io = _____)\n",
    "\n",
    "# Step 4 (optional): checking results\n",
    "diamonds"
   ]
  },
  {
   "cell_type": "markdown",
   "metadata": {
    "deletable": false,
    "editable": false,
    "run_control": {
     "frozen": true
    }
   },
   "source": [
    "<hr style=\"height:.9px;border:none;color:#333;background-color:#333;\" /><br>\n",
    "<strong>pd.read_excel(&nbsp;)</strong> contains some extremely useful optional arguments that we may want to use in order to further organize our code. Below is a table of the ones we will cover throughout this course:<br><br>\n",
    "\n",
    "<div style = \"width:image width px; font-size:80%; text-align:center;\">\n",
    "<table align=\"center\">\n",
    "<col width=\"100\">\n",
    "<col width=\"10\">   \n",
    "<col width=\"600\">\n",
    "    <tr>\n",
    "        <th>Argument</th>\n",
    "        <th>    | </th>\n",
    "        <th>Description</th>\n",
    "    </tr>\n",
    "    <tr>\n",
    "        <td>io</td>\n",
    "        <td>    | </td>\n",
    "        <td> the file, path, or URL of the data</td>\n",
    "    </tr>\n",
    "    <tr>\n",
    "    <tr>\n",
    "        <td>sheet_name</td>\n",
    "        <td>    | </td>\n",
    "        <td> if your data exists on multiple sheets in Excel, this is the argument to tell Python which sheet to read</td>\n",
    "    </tr>\n",
    "    <tr>\n",
    "        <td>header</td>\n",
    "        <td>    | </td>\n",
    "        <td> if your Excel file has column names in the first row, this is the argument to tell this to Python</td>\n",
    "    </tr>   \n",
    "    <tr>\n",
    "        <td>dtype</td>\n",
    "        <td>    | </td>\n",
    "        <td> Excel and Python tend to interpret data types differently. This argument helps you control this.</td>\n",
    "    </tr>\n",
    "    \n",
    "          Table 13.1: Extremely useful arguments for pd_read_excel().\n",
    "</table></div><br>"
   ]
  },
  {
   "cell_type": "markdown",
   "metadata": {
    "deletable": false,
    "editable": false,
    "run_control": {
     "frozen": true
    }
   },
   "source": [
    "<h4>11.1.2) Applying Optional Arguments from <em>pd.read_excel(&nbsp;)</em></h4>\n",
    "Complete the code below to read the <em>diamonds</em> Excel file into Python, specifying its sheet name (i.e., <em>diamonds</em>) and the row number where feature labels (i.e., column names) are located."
   ]
  },
  {
   "cell_type": "code",
   "execution_count": null,
   "metadata": {},
   "outputs": [],
   "source": [
    "## Session 11.1.2 ##\n",
    "\n",
    "# pandas is already imported\n",
    "\n",
    "# storing the path to the dataset\n",
    "file = _____\n",
    "\n",
    "# instantiating the dataset as an object\n",
    "diamonds = ____.____(____       = ____, # file to be read in\n",
    "                     sheet_name = ____, # sheet name in Excel\n",
    "                     header     = ____) # row # w/ feature labels\n",
    "\n",
    "\n",
    "# NEW METHOD: .head()\n",
    "diamonds.head(n = 5)"
   ]
  },
  {
   "cell_type": "markdown",
   "metadata": {
    "deletable": false,
    "editable": false,
    "run_control": {
     "frozen": true
    }
   },
   "source": [
    "<br><hr style=\"height:.9px;border:none;color:#333;background-color:#333;\" />\n",
    "<h3>Bad Practice: Data Dumping</h3><br>\n",
    "The <a href=\"https://pandas.pydata.org/pandas-docs/stable/reference/api/pandas.DataFrame.head.html\">.head(&nbsp;) method</a> is used to display the first <em>n</em> rows of a dataset. This is important, because as you know from the required reading for this session:<br><br>\n",
    "<strong><font style=\"color:red;\">Attempting to view an entire dataset is a bad idea.</font></strong><br><br>\n",
    "When we attempted to view the entire dataset in <em>Session 11.1.2</em>, our view was automatically restricted to the first and last five rows of the dataset. This is panda's way of preventing us from unintentionally running something that might be process intense, and that we most likely will never use for any analytical endeavors.\n",
    "<br>\n",
    "<hr style=\"height:.9px;border:none;color:#333;background-color:#333;\" /><br>"
   ]
  },
  {
   "cell_type": "markdown",
   "metadata": {
    "deletable": false,
    "editable": false,
    "run_control": {
     "frozen": true
    }
   },
   "source": [
    "<h2>Part II: Slicing DataFrames</h2><br>\n",
    "Columns can be sliced in a similar fashion to how list items are indexed:\n",
    "<br><br>\n",
    "\n",
    "~~~\n",
    "# slicing a single column\n",
    "DataFrame['feature name']\n",
    "~~~\n",
    "\n",
    "<br>\n",
    "This is exemplified in the code below."
   ]
  },
  {
   "cell_type": "code",
   "execution_count": null,
   "metadata": {
    "deletable": false,
    "editable": false
   },
   "outputs": [],
   "source": [
    "## Session 11.2.1 ##\n",
    "\n",
    "# slicing the carat column (type will be pd.Series)\n",
    "diamonds['carat'].head(n = 5)"
   ]
  },
  {
   "cell_type": "markdown",
   "metadata": {
    "deletable": false,
    "editable": false,
    "run_control": {
     "frozen": true
    }
   },
   "source": [
    "<hr style=\"height:.9px;border:none;color:#333;background-color:#333;\" /><br>\n",
    "\n",
    "For Python, the output of the code above is easy and efficient to read. If we were using the <em>carat</em> column as an input for another operation, this is the way to go. For humans, however, it would be beneficial to output this as a table. One advantage of Jupyter Notebook is that it will automatically output an html table if it is provided with a DataFrame."
   ]
  },
  {
   "cell_type": "code",
   "execution_count": null,
   "metadata": {
    "deletable": false,
    "editable": false
   },
   "outputs": [],
   "source": [
    "## Session 11.2.2 ##\n",
    "\n",
    "# slicing the carat column (type will be pd.DataFrame)\n",
    "diamonds[  ['carat']  ].head(n = 5)"
   ]
  },
  {
   "cell_type": "markdown",
   "metadata": {
    "deletable": false,
    "editable": false,
    "run_control": {
     "frozen": true
    }
   },
   "source": [
    "<hr style=\"height:.9px;border:none;color:#333;background-color:#333;\" /><br><br>\n",
    "The codes below have been designed to further exemplify the behind the scenes type conversion."
   ]
  },
  {
   "cell_type": "code",
   "execution_count": null,
   "metadata": {
    "cell_style": "split",
    "deletable": false,
    "editable": false
   },
   "outputs": [],
   "source": [
    "## Session 11.2.3 ##\n",
    "\n",
    "type(diamonds['carat'])"
   ]
  },
  {
   "cell_type": "code",
   "execution_count": null,
   "metadata": {
    "cell_style": "split",
    "deletable": false,
    "editable": false
   },
   "outputs": [],
   "source": [
    "## Session 11.2.4 ##\n",
    "\n",
    "type(diamonds[    ['carat']    ])            "
   ]
  },
  {
   "cell_type": "markdown",
   "metadata": {
    "deletable": false,
    "editable": false,
    "run_control": {
     "frozen": true
    }
   },
   "source": [
    "<br><hr style=\"height:.9px;border:none;color:#333;background-color:#333;\" /><br>\n",
    "We can also slice multiple features, as in the code below."
   ]
  },
  {
   "cell_type": "code",
   "execution_count": null,
   "metadata": {
    "deletable": false,
    "editable": false
   },
   "outputs": [],
   "source": [
    "## Session 11.2.5 ##\n",
    "\n",
    "# carat and price columns\n",
    "diamonds[  ['carat', 'color', 'clarity', 'cut']  ].head(n = 5)"
   ]
  },
  {
   "cell_type": "markdown",
   "metadata": {
    "deletable": false,
    "editable": false,
    "run_control": {
     "frozen": true
    }
   },
   "source": [
    "<hr style=\"height:.9px;border:none;color:#333;background-color:#333;\" /><br>\n",
    "<h2>Part III: Conditional Subsetting</h2>\n",
    "When working with DataFrames, pandas prefers we use one of two methods that help us avoid problems down the road. These methods, <a href=\"https://pandas.pydata.org/pandas-docs/stable/reference/api/pandas.DataFrame.loc.html\">.loc[&nbsp;]</a> and <a href=\"https://pandas.pydata.org/pandas-docs/stable/reference/api/pandas.DataFrame.iloc.html#pandas-dataframe-iloc\">.iloc[&nbsp;]</a> are incredibly important for several reasons, as explained in <a href=\"https://pandas.pydata.org/pandas-docs/stable/user_guide/indexing.html\">the Python documentation on indexing and selecting data</a>. Simply stated, the difference between these two methods is that <strong><em>.loc[&nbsp;]</em> works with names and <em>.iloc[&nbsp;]</em> works with numbers.</strong> Below is a diagram as to how to use these two methods.\n",
    "<br><br>\n",
    "\n",
    "~~~\n",
    "# using loc[]\n",
    "DataFrame.loc[row NAMES, column NAMES]\n",
    "\n",
    "# using iloc[]\n",
    "DataFrame.iloc[row NUMBERS, column NUMBERS]\n",
    "~~~\n",
    "\n",
    "<br>\n",
    "The following two codes will output the same result."
   ]
  },
  {
   "cell_type": "code",
   "execution_count": null,
   "metadata": {
    "cell_style": "center",
    "deletable": false,
    "editable": false
   },
   "outputs": [],
   "source": [
    "## Session 11.3.1 ##\n",
    "\n",
    "# slicing the column for color using .loc[]\n",
    "diamonds.loc[ : , 'color'].head(n = 5)"
   ]
  },
  {
   "cell_type": "markdown",
   "metadata": {
    "deletable": false,
    "editable": false,
    "run_control": {
     "frozen": true
    }
   },
   "source": [
    "<br>"
   ]
  },
  {
   "cell_type": "code",
   "execution_count": null,
   "metadata": {
    "cell_style": "center",
    "deletable": false,
    "editable": false
   },
   "outputs": [],
   "source": [
    "## Session 11.3.2 ##\n",
    "\n",
    "# slicing the column for color using .iloc[]\n",
    "diamonds.iloc[ : , 2].head(n = 5)"
   ]
  },
  {
   "cell_type": "markdown",
   "metadata": {
    "deletable": false,
    "editable": false,
    "run_control": {
     "frozen": true
    }
   },
   "source": [
    "<hr style=\"height:.9px;border:none;color:#333;background-color:#333;\" /><br>\n",
    "We can also add conditional logic by doing the following:<br><br>\n",
    "\n",
    "~~~\n",
    "             # think of this part like a filter\n",
    "DataFrame[  (DataFrame.loc  [row names] , [column names]  ] CONDITION)  ]\n",
    "~~~\n",
    "\n",
    "<br>\n",
    "This is exemplified in the code block below."
   ]
  },
  {
   "cell_type": "code",
   "execution_count": null,
   "metadata": {
    "deletable": false,
    "editable": false
   },
   "outputs": [],
   "source": [
    "## Session 11.3.3 ##\n",
    "\n",
    "# carat column where carat is greater than 2\n",
    "diamonds[ (diamonds.loc[ : , 'carat'] > 2) ]"
   ]
  },
  {
   "cell_type": "markdown",
   "metadata": {
    "deletable": false,
    "editable": false,
    "run_control": {
     "frozen": true
    }
   },
   "source": [
    "<hr style=\"height:.9px;border:none;color:#333;background-color:#333;\" /><br>\n",
    "Conditional subsetting can be extended by simply adding more conditions on to end of a line of code. <strong><font style=\"color:red;\">Don't worry about the UserWarning that generates from the code.</font></strong> This is simply telling us that our index values will remain intact instead of resetting. We will suppress this warning in a later code.\n",
    "<br><br>"
   ]
  },
  {
   "cell_type": "code",
   "execution_count": null,
   "metadata": {
    "deletable": false,
    "editable": false
   },
   "outputs": [],
   "source": [
    "## Session 11.3.4 ##\n",
    "\n",
    "# subetting for color, cut both == 1\n",
    "diamonds[ (diamonds.loc[ : , 'carat']     <= 1) ]\\\n",
    "        [ (diamonds.loc[ : , 'color']     >= 2) ]\\\n",
    "        [ (diamonds.loc[ : , 'clarity']   == 3) ]\\\n",
    "        [ (diamonds.loc[ : , 'cut']       != 1) ]"
   ]
  },
  {
   "cell_type": "markdown",
   "metadata": {
    "deletable": false,
    "editable": false,
    "run_control": {
     "frozen": true
    }
   },
   "source": [
    "<hr style=\"height:.9px;border:none;color:#333;background-color:#333;\" /><br>"
   ]
  },
  {
   "cell_type": "code",
   "execution_count": null,
   "metadata": {
    "deletable": false,
    "editable": false
   },
   "outputs": [],
   "source": [
    "# suppressing user warnings\n",
    "warnings.simplefilter(action='ignore', category=UserWarning)"
   ]
  },
  {
   "cell_type": "markdown",
   "metadata": {},
   "source": [
    "<hr style=\"height:.9px;border:none;color:#333;background-color:#333;\" /><br>\n",
    "This can get messy very quickly. In many cases, it is easier to develop the code one step at a time to help keep things organized."
   ]
  },
  {
   "cell_type": "code",
   "execution_count": null,
   "metadata": {
    "deletable": false,
    "editable": false
   },
   "outputs": [],
   "source": [
    "## Session 11.3.5 ##\n",
    "\n",
    "# data to be subset\n",
    "data = diamonds[ ['carat', 'color', 'clarity', 'cut'] ]\n",
    "\n",
    "\n",
    "# conditions\n",
    "carat_condition   = (diamonds.loc[ : , 'carat']   <= 1) # carat\n",
    "color_condition   = (diamonds.loc[ : , 'color']   >= 2) # color\n",
    "clarity_condition = (diamonds.loc[ : , 'clarity'] == 3) # clarity\n",
    "cut_condition     = (diamonds.loc[ : , 'cut']     != 1) # cut\n",
    "\n",
    "\n",
    "# putting it all together\n",
    "data[carat_condition][color_condition][clarity_condition][cut_condition]"
   ]
  },
  {
   "cell_type": "markdown",
   "metadata": {
    "deletable": false,
    "editable": false,
    "run_control": {
     "frozen": true
    }
   },
   "source": [
    "<hr style=\"height:.9px;border:none;color:#333;background-color:#333;\" /><br>\n",
    "<h2>Part IV: Case Study - Finding the \"Best\" Diamond on a Budget</h2><br>\n",
    "<strong>Your goal in this case study is to find the \"best\" five diamond engagement rings for a \"normal\" Chicago citizen.</strong> To help you along the way, below is some domain knowledge on income in the city of Chicago during the data collection period.\n",
    "<br><br>\n",
    "<hr style=\"height:.9px;border:none;color:#333;background-color:#333;\" />\n",
    "<strong>Foundational Domain Knowledge</strong><br>\n",
    "The diamond data was collected in the city of Chicago in 2007. During this time, per capita income for the city of Chicago was approximately \\&#36;34,775, according to <a href=\"https://www.census.gov/\">the U.S. Census Bureau website</a>. Following the \"two month's salary\" rule, a \"normal\" Chicago citizen would have a budget of approximately \\&#36;5,795 to spend on a diamond engagement ring.\n",
    "<hr style=\"height:.9px;border:none;color:#333;background-color:#333;\" />\n",
    "<br>\n",
    "Use the open coding block below to conditionally subset price, carat, color, clarity, and cut to find the \"best\" diamond engagement ring given this budget. You may define \"best\" in any way you please, as long as you can reasonably justify your rationale (use the markdown cell below for this)."
   ]
  },
  {
   "cell_type": "markdown",
   "metadata": {},
   "source": [
    "Open this markdown cell to explain the rationale for your selection criteria. Aim for at least 100 words."
   ]
  },
  {
   "cell_type": "code",
   "execution_count": null,
   "metadata": {},
   "outputs": [],
   "source": [
    "## Session 11.4.1 ##\n",
    "\n",
    "# don't forget to add comments to your code!\n"
   ]
  },
  {
   "cell_type": "markdown",
   "metadata": {
    "deletable": false,
    "editable": false,
    "run_control": {
     "frozen": true
    }
   },
   "source": [
    "<hr style=\"height:.9px;border:none;color:#333;background-color:#333;\" /><br>\n",
    "\n",
    "~~~\n",
    "\n",
    " __ _             _   _                           _   \n",
    "/ _\\ |_ __ _ _ __| |_(_)_ __   __ _    ___  _   _| |_ \n",
    "\\ \\| __/ _` | '__| __| | '_ \\ / _` |  / _ \\| | | | __|\n",
    "_\\ \\ || (_| | |  | |_| | | | | (_| | | (_) | |_| | |_ \n",
    "\\__/\\__\\__,_|_|   \\__|_|_| |_|\\__, |  \\___/ \\__,_|\\__|\n",
    "                              |___/                   \n",
    " __  _____  __    ___    __  ___   _                  \n",
    "/ _\\/__   \\/__\\  /___\\/\\ \\ \\/ _ \\ / \\                 \n",
    "\\ \\   / /\\/ \\// //  //  \\/ / /_\\//  /                 \n",
    "_\\ \\ / / / _  \\/ \\_// /\\  / /_\\\\/\\_/                  \n",
    "\\__/ \\/  \\/ \\_/\\___/\\_\\ \\/\\____/\\/                    \n",
    "                                                      \n",
    "\n",
    "~~~\n"
   ]
  },
  {
   "cell_type": "markdown",
   "metadata": {
    "deletable": false,
    "editable": false,
    "run_control": {
     "frozen": true
    }
   },
   "source": [
    "<br>"
   ]
  }
 ],
 "metadata": {
  "kernelspec": {
   "display_name": "Python 3 (ipykernel)",
   "language": "python",
   "name": "python3"
  },
  "language_info": {
   "codemirror_mode": {
    "name": "ipython",
    "version": 3
   },
   "file_extension": ".py",
   "mimetype": "text/x-python",
   "name": "python",
   "nbconvert_exporter": "python",
   "pygments_lexer": "ipython3",
   "version": "3.11.8"
  },
  "toc": {
   "base_numbering": 1,
   "nav_menu": {},
   "number_sections": false,
   "sideBar": true,
   "skip_h1_title": false,
   "title_cell": "Table of Contents",
   "title_sidebar": "Contents",
   "toc_cell": false,
   "toc_position": {},
   "toc_section_display": true,
   "toc_window_display": false
  },
  "varInspector": {
   "cols": {
    "lenName": 16,
    "lenType": 16,
    "lenVar": 40
   },
   "kernels_config": {
    "python": {
     "delete_cmd_postfix": "",
     "delete_cmd_prefix": "del ",
     "library": "var_list.py",
     "varRefreshCmd": "print(var_dic_list())"
    },
    "r": {
     "delete_cmd_postfix": ") ",
     "delete_cmd_prefix": "rm(",
     "library": "var_list.r",
     "varRefreshCmd": "cat(var_dic_list()) "
    }
   },
   "position": {
    "height": "144px",
    "left": "887px",
    "right": "20px",
    "top": "116px",
    "width": "350px"
   },
   "types_to_exclude": [
    "module",
    "function",
    "builtin_function_or_method",
    "instance",
    "_Feature"
   ],
   "window_display": false
  }
 },
 "nbformat": 4,
 "nbformat_minor": 2
}
