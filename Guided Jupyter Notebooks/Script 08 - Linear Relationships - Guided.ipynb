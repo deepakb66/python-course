{
 "cells": [
  {
   "cell_type": "markdown",
   "metadata": {
    "deletable": false,
    "editable": false,
    "run_control": {
     "frozen": true
    }
   },
   "source": [
    "<hr style=\"height:.9px;border:none;color:#333;background-color:#333;\" />\n",
    "<hr style=\"height:.9px;border:none;color:#333;background-color:#333;\" />\n",
    "<br>\n",
    "<h1>Linear Relationships</h1>\n",
    "<em>Introduction to Python | In-Class Script</em><br><br>\n",
    "\n",
    "Written by Chase Kusterer - Faculty of Analytics <br>\n",
    "Hult International Business School <br>\n",
    "<a href=\"https://github.com/chase-kusterer\">https://github.com/chase-kusterer</a> <br><br><br><br><br>\n",
    "<hr style=\"height:.9px;border:none;color:#333;background-color:#333;\" />\n",
    "<br>\n",
    "Throughout this session, we will focus on understanding how each feature in the dataset affects the price of a diamond engagement ring. In other words, we will be exploring the relationships between price and all of the features in the dataset (including non-numeric features). Before moving forward, however, it is important to acknowledge that correlation does not imply causation. If this concept is new to you, please take a moment to read <a href=\"https://hbr.org/2015/06/beware-spurious-correlations\">this article</a> from Harvard Business Review.\n",
    "<br><br><br>\n",
    "\n",
    "<hr style=\"height:.9px;border:none;color:#333;background-color:#333;\" /><br>\n",
    "\n",
    "~~~\n",
    "Some people feel the rain. Others just get wet.\n",
    "    - Bob Marley\n",
    "~~~\n",
    "\n",
    "\n",
    "<br>\n",
    "<hr style=\"height:.9px;border:none;color:#333;background-color:#333;\" />\n",
    "<br>\n",
    "<h4>S14.1.1) Complete the code to import the diamonds dataset with proper data types.</h4>\n",
    "Use the <em>diamonds</em> sheet of the <em>diamonds.xlsx</em> Excel file.\n",
    "<h2>Part I: Linear Correlation</h2>"
   ]
  },
  {
   "cell_type": "code",
   "execution_count": null,
   "metadata": {},
   "outputs": [],
   "source": [
    "## Session 14.1.1 ##\n",
    "\n",
    "# importing packages\n",
    "import ____ as pd # data science essentials\n",
    "import ____ as plt # NEW: data visualization essentials\n",
    "import ____ as sns # NEW: enhanced data visualization\n",
    "\n",
    "\n",
    "# suppressing user warnings\n",
    "import warnings # warnings\n",
    "warnings.simplefilter(action='ignore', category=UserWarning)\n",
    "\n",
    "\n",
    "# specifying a file name\n",
    "file = ____\n",
    "\n",
    "\n",
    "# converting data types with a dictionary\n",
    "data_types = {\"channel\" : str,\n",
    "              \"store\"   : str}\n",
    "\n",
    "\n",
    "# reading the file into Python through pandas\n",
    "diamonds = ____.____(io         = ____      ,\n",
    "                     sheet_name = ____      ,\n",
    "                     header     = ____      ,\n",
    "                     dtype      = ____      )\n",
    "\n",
    "\n",
    "# outputting the first 5 rows of the dataset\n",
    "____"
   ]
  },
  {
   "cell_type": "markdown",
   "metadata": {
    "deletable": false,
    "editable": false,
    "run_control": {
     "frozen": true
    }
   },
   "source": [
    "<hr style=\"height:.9px;border:none;color:#333;background-color:#333;\" /><br>\n",
    "\n",
    "<h4>S14.1.2) Complete the code to generate (Pearson) correlation coefficients for the <em>diamonds</em> dataset. Round your results to two decimal places.</h4>"
   ]
  },
  {
   "cell_type": "code",
   "execution_count": null,
   "metadata": {},
   "outputs": [],
   "source": [
    "## Session 14.1.2 ##\n",
    "\n",
    "# linear (Pearson) correlation\n",
    "diamonds.____(method = _____).round(decimals = 2)"
   ]
  },
  {
   "cell_type": "markdown",
   "metadata": {
    "deletable": false,
    "editable": false,
    "run_control": {
     "frozen": true
    }
   },
   "source": [
    "<br><hr style=\"height:.9px;border-width:0;color:gray;background-color:gray\"><br>\n",
    "\n",
    "We can save this as an object as a DataFrame and then turn it into a heatmap.\n",
    "<br><br>\n",
    "<h4>S14.1.3) Complete the code below to:</h4><br>\n",
    "&#8195;&#8195;i) store the correlation table as an object<br>\n",
    "&#8195;&#8195;ii) instantiate a heatmap from the stored correlation table"
   ]
  },
  {
   "cell_type": "code",
   "execution_count": null,
   "metadata": {},
   "outputs": [],
   "source": [
    "## Session 14.1.3 ##\n",
    "\n",
    "# converting correlation matrix into a DataFrame\n",
    "diamonds_corr = diamonds.____(method = 'pearson').round(____)\n",
    "\n",
    "# instantiating a heatmap\n",
    "sns.heatmap(data = ____)\n",
    "\n",
    "\n",
    "# displaying the plot\n",
    "plt.show(block = True)"
   ]
  },
  {
   "cell_type": "markdown",
   "metadata": {
    "deletable": false,
    "editable": false,
    "run_control": {
     "frozen": true
    }
   },
   "source": [
    "<br><hr style=\"height:.9px;border-width:0;color:gray;background-color:gray\"><br>\n",
    "Let's spice up the heatmap.\n",
    "\n",
    "<br>\n",
    "\n",
    "~~~\n",
    "         -_\n",
    "         `-;-_   ,--.__\n",
    "            `-;-/. ,/\\-`.\n",
    "            _//\"\\\\  '/  |\n",
    "           /'-   \\\\ `;\\-|    <-- chili pepper\n",
    "         ,'  ;/   \\\\  \\|;\n",
    "       ./'  ;'     \\\\  \\(\n",
    "     ,-\" _;'        \\\\  `\n",
    "  ,-'_;-\"            \\\n",
    "   \"'\n",
    "~~~\n",
    "\n",
    "<br>"
   ]
  },
  {
   "cell_type": "code",
   "execution_count": null,
   "metadata": {
    "deletable": false,
    "editable": false
   },
   "outputs": [],
   "source": [
    "## Session 14.1.4 ##\n",
    "\n",
    "# specifying plot size (making it bigger)\n",
    "fig, ax = plt.subplots( figsize = (12 , 12) )\n",
    "\n",
    "\n",
    "# developing a spicy heatmap\n",
    "sns.heatmap(data       = diamonds_corr, # the correlation matrix\n",
    "            cmap       = 'inferno'    , # changing to SPICY colors\n",
    "            square     = True         , # tightening the layout\n",
    "            annot      = True         , # should there be numbers in the heatmap\n",
    "            linecolor  = 'black'      , # lines between boxes\n",
    "            linewidths = 0.5          ) # how thick should the lines be?\n",
    "\n",
    "\n",
    "# title and displaying the plot\n",
    "plt.title(label = \"\"\"\n",
    "Linear Correlation Heatmap for Diamond Features\n",
    "\"\"\")\n",
    "\n",
    "\n",
    "# showing the finished product\n",
    "plt.show(block = True)"
   ]
  },
  {
   "cell_type": "markdown",
   "metadata": {
    "deletable": false,
    "editable": false,
    "run_control": {
     "frozen": true
    }
   },
   "source": [
    "<br><hr style=\"height:.9px;border-width:0;color:gray;background-color:gray\"><br>\n",
    "That was too spicy! Let's cool things down a bit in our next plot.\n",
    "\n",
    "<br>\n",
    "\n",
    "~~~\n",
    "            .-~~\\\n",
    "           /     \\ _\n",
    "           ~x   .-~_)_\n",
    "             ~x\".-~   ~-.\n",
    "         _   ( /         \\   _\n",
    "         ||   T  o  o     Y  ||       <--- snow person\n",
    "       ==;l   l   <       !  |;==\n",
    "          \\\\   \\  .__/   /  //\n",
    "           \\\\ ,r\"-,___.-'r.//\n",
    "            }^ \\.( )   _.'//.\n",
    "           /    }~Xi--~  //  \\\n",
    "          Y    Y I\\ \\    \"    Y\n",
    "          |    | |o\\ \\        |\n",
    "          |    l_l  Y T       |  \n",
    "          l      \"o l_j       !\n",
    "           \\                 /\n",
    "    ___,.---^.     o       .^---.._____\n",
    "\"~~~          \"           ~            ~~~\"\n",
    "\n",
    "~~~\n",
    "\n",
    "<br>"
   ]
  },
  {
   "cell_type": "markdown",
   "metadata": {
    "deletable": false,
    "editable": false,
    "run_control": {
     "frozen": true
    }
   },
   "source": [
    "<hr style=\"height:.9px;border:none;color:#333;background-color:#333;\" /><br>\n",
    "\n",
    "<h4>S14.1.5) Complete the code to generate a heatmap with the <em>Blues</em> color scheme.</h4>"
   ]
  },
  {
   "cell_type": "code",
   "execution_count": null,
   "metadata": {},
   "outputs": [],
   "source": [
    "## Session 14.1.5 ##\n",
    "\n",
    "# specifying plot size (making it bigger)\n",
    "fig, ax = plt.subplots( figsize = (12 , 12) )\n",
    "\n",
    "\n",
    "# developing a freezing cold heatmap\n",
    "sns.heatmap(data       = diamonds_corr, # the correlation matrix\n",
    "            cmap       = _____        , # changing to COOL colors\n",
    "            square     = True         , # tightening the layout\n",
    "            annot      = True         , # should there be numbers in the heatmap\n",
    "            linecolor  = 'black'      , # lines between boxes\n",
    "            linewidths = 0.5          ) # how thick should the lines be?\n",
    "\n",
    "\n",
    "# title and displaying the plot\n",
    "plt.title(label = \"\"\"\n",
    "Linear Correlation Heatmap for Diamond Features\n",
    "\"\"\")\n",
    "\n",
    "\n",
    "# rendering the visualization\n",
    "plt.show(block = True)"
   ]
  },
  {
   "cell_type": "markdown",
   "metadata": {
    "deletable": false,
    "editable": false,
    "run_control": {
     "frozen": true
    }
   },
   "source": [
    "<br><hr style=\"height:.9px;border-width:0;color:gray;background-color:gray\"><br>\n",
    "The heatmap looks freezing now! Let's change the color scheme to a mix between hot and cold.\n",
    "<br><br>\n",
    "\n",
    "~~~\n",
    "                                 .''.\n",
    "       .''.             *''*    :_\\/_:     . \n",
    "      :_\\/_:   .    .:.*_\\/_*   : /\\ :  .'.:.'.\n",
    "  .''.: /\\ : _\\(/_  ':'* /\\ *  : '..'.  -=:o:=-\n",
    " :_\\/_:'.:::. /)\\*''*  .|.* '.\\'/.'_\\(/_'.':'.'\n",
    " : /\\ : :::::  '*_\\/_* | |  -= o =- /)\\    '  *\n",
    "  '..'  ':::'   * /\\ * |'|  .'/.\\'.  '._____\n",
    "      *        __*..* |  |     :      |.   |' .---\"|\n",
    "       _*   .-'   '-. |  |     .--'|  ||   | _|    |\n",
    "    .-'|  _.|  |    ||   '-__  |   |  |    ||      |\n",
    "    |' | |.    |    ||       | |   |  |    ||      |\n",
    " ___|  '-'     '    \"\"       '-'   '-.'    '`      |____\n",
    "\n",
    "\n",
    "~~~\n"
   ]
  },
  {
   "cell_type": "markdown",
   "metadata": {
    "deletable": false,
    "editable": false,
    "run_control": {
     "frozen": true
    }
   },
   "source": [
    "<hr style=\"height:.9px;border:none;color:#333;background-color:#333;\" /><br>\n",
    "\n",
    "<h4>S14.1.6) Complete the code to generate a heatmap with the <em>coolwarm</em> color scheme.</h4>"
   ]
  },
  {
   "cell_type": "code",
   "execution_count": null,
   "metadata": {},
   "outputs": [],
   "source": [
    "## Session 14.1.6 ##\n",
    "\n",
    "# specifying plot size (making it bigger)\n",
    "fig, ax = plt.subplots( figsize = (12 , 12) )\n",
    "\n",
    "\n",
    "# developing a coolwarm heatmap\n",
    "sns.heatmap(data       = diamonds_corr, # the correlation matrix\n",
    "            cmap       = _____        , # changing to MEDIUM colors\n",
    "            square     = True         , # tightening the layout\n",
    "            annot      = True         , # should there be numbers in the heatmap\n",
    "            linecolor  = 'black'      , # lines between boxes\n",
    "            linewidths = 0.5          ) # how thick should the lines be?\n",
    "\n",
    "\n",
    "# title and displaying the plot\n",
    "plt.title(label = \"\"\"\n",
    "Linear Correlation Heatmap for Diamond Features\n",
    "\"\"\")\n",
    "\n",
    "\n",
    "# visualizing the data\n",
    "plt.show(block = True)"
   ]
  },
  {
   "cell_type": "markdown",
   "metadata": {
    "deletable": false,
    "editable": false,
    "run_control": {
     "frozen": true
    }
   },
   "source": [
    "<hr style=\"height:.9px;border:none;color:#333;background-color:#333;\" /><br>\n",
    "<h2>Part II: Scatter and Linear Model Plots</h2><br>\n",
    "Scatter plots are an excellent tool to analyze the relationship between two variables. Linear model plots are an enhanced version of a scatter plot that includes a trend line based on the <strong>square of the correlation coefficient</strong> between the variables being plotted. The square of the correlation coefficient is more formally known as <strong>R-Squared</strong>.\n",
    "<br><br>\n",
    "The code below has been developed to display a scatter plot between <em>carat</em> and <em>price</em>."
   ]
  },
  {
   "cell_type": "code",
   "execution_count": null,
   "metadata": {
    "deletable": false,
    "editable": false
   },
   "outputs": [],
   "source": [
    "## Session 14.2.1 ##\n",
    "\n",
    "# instantiating a scatter plot for carat and price\n",
    "sns.lmplot(x          = 'carat' , # x-axis feature\n",
    "           y          = 'price' , # y-axis feature\n",
    "           hue        = None    , # categorical data for subsets\n",
    "           scatter    = True    , # renders a scatter plot\n",
    "           fit_reg    = False   , # renders a regression line\n",
    "           aspect     = 2       , # aspect ratio for plot\n",
    "           data       = diamonds) # DataFrame where features exist\n",
    "\n",
    "\n",
    "# formatting and displaying the plot\n",
    "plt.title       (label  = 'Carat Weight and Price')\n",
    "plt.xlabel      (xlabel = 'Carat Weight'          )\n",
    "plt.ylabel      (ylabel = 'Price (USD)'           )\n",
    "plt.xlim        (left   = 0, right = 2.8          )\n",
    "plt.tight_layout(pad    = 1.0                     )\n",
    "plt.show        (block  = True                    )"
   ]
  },
  {
   "cell_type": "markdown",
   "metadata": {
    "deletable": false,
    "editable": false,
    "run_control": {
     "frozen": true
    }
   },
   "source": [
    "<hr style=\"height:.9px;border-width:0;color:gray;background-color:gray\"><br>\n",
    "<h4>S14.2.2) Change the value of the <em>fit_reg</em> argument to True.</h4>"
   ]
  },
  {
   "cell_type": "code",
   "execution_count": null,
   "metadata": {},
   "outputs": [],
   "source": [
    "## Session 14.2.2 ##\n",
    "\n",
    "# instantiating an lmplot for carat and price\n",
    "sns.lmplot(x       = 'carat' , # x-axis feature\n",
    "           y       = 'price' , # y-axis feature\n",
    "           hue     = None    , # categorical data for subsets\n",
    "           scatter = True    , # renders a scatter plot\n",
    "           fit_reg = ____    , # renders a regression line\n",
    "           aspect  = 2       , # aspect ratio for plot\n",
    "           data    = diamonds) # DataFrame where features exist\n",
    "\n",
    "\n",
    "# formatting and displaying the visualization\n",
    "plt.title       (label  = 'Carat Weight and Price')\n",
    "plt.xlabel      (xlabel = 'Carat Weight'          )\n",
    "plt.ylabel      (ylabel = 'Price (USD)'           )\n",
    "plt.xlim        (left   = 0, right = 2.8          )\n",
    "plt.tight_layout(pad    = 10.0                    )\n",
    "plt.show        (block  = True                    )"
   ]
  },
  {
   "cell_type": "markdown",
   "metadata": {
    "deletable": false,
    "editable": false,
    "run_control": {
     "frozen": true
    }
   },
   "source": [
    "<hr style=\"height:.9px;border-width:0;color:gray;background-color:gray\"><br>\n",
    "\n",
    "According to <a href=\"miller_mds_two_months_salary_case.pdf\">the documentation on the dataset</a>, \"diamonds are sized in one-quarter increments\". However, it does not appear that the trend between price and carat weight changes with each 0.25 increment. What the documentation likely meant was that when a diamond is sold to a customer, it is replaced with a new one that has a relatively similar carat weight. It does look, however, that the trend becomes more steep as carat weight increases beyond 1.50. Also, there appears to be a downward-sloping trend after carat weight surpasses 2.00 (although we do not have many observations with carat weights above this threshold).\n",
    "<br><br>\n",
    "Let's develop vertical axis lines at half carat increments and store this as a categorical variable. This has been done in the code cell below, as well as revisualizing the scatter plot."
   ]
  },
  {
   "cell_type": "code",
   "execution_count": null,
   "metadata": {
    "deletable": false,
    "editable": false
   },
   "outputs": [],
   "source": [
    "## Session 14.2.4 ##\n",
    "\n",
    "# creating a dummy column in the diamonds DataFrame\n",
    "diamonds['Carat Size'] = 0\n",
    "\n",
    "\n",
    "# for loop with iterrows() <-- one of the most useful methods for DataFrames\n",
    "for index, col in diamonds.iterrows():\n",
    "    \n",
    "    \n",
    "    # conditionals to change the values in the new column\n",
    "    if diamonds.loc[index, 'carat'] < 0.5:\n",
    "        diamonds.loc[index, 'Carat Size'] = '[0.0, 0.5)'\n",
    "        \n",
    "        \n",
    "    elif diamonds.loc[index, 'carat'] < 1.0:\n",
    "        diamonds.loc[index, 'Carat Size'] = '[0.5 - 1.0)'\n",
    "        \n",
    "        \n",
    "    elif diamonds.loc[index, 'carat'] < 1.5:\n",
    "        diamonds.loc[index, 'Carat Size'] = '[1.0 - 1.5)'\n",
    "        \n",
    "        \n",
    "    elif diamonds.loc[index, 'carat'] < 2.0:\n",
    "        diamonds.loc[index, 'Carat Size'] = '[1.5 - 2.0)'\n",
    "        \n",
    "        \n",
    "    elif diamonds.loc[index, 'carat'] >= 2.0: # this is where the bug was\n",
    "        diamonds.loc[index, 'Carat Size'] = '[2.0 - inf)'\n",
    "    \n",
    "    \n",
    "    # safety net\n",
    "    else:\n",
    "        diamonds.loc[index, 'Carat Size'] = 'error'\n",
    "\n",
    "\n",
    "# instantiating an lmplot for carat and price\n",
    "sns.lmplot(x          = 'carat'     ,  \n",
    "           y          = 'price'     ,  \n",
    "           hue        = 'Carat Size', # categorical data for subsets\n",
    "           legend     = False       , # supressing the legend \n",
    "           scatter    = True        ,     \n",
    "           fit_reg    = True        ,     \n",
    "           aspect     = 2           ,        \n",
    "           data       = diamonds    )\n",
    "\n",
    "\n",
    "# developing vertical axis lines\n",
    "value = 0.50\n",
    "\n",
    "while value < 3.00:\n",
    "    \n",
    "    # making a vertical line\n",
    "    plt.axvline(x = value, color = \"purple\", linestyle = '--')\n",
    "    \n",
    "    # incrementing value in one-quarter increments\n",
    "    value += 0.50\n",
    "\n",
    "\n",
    "# formatting and displaying the plot\n",
    "plt.title       (label  = 'Carat Weight and Price')\n",
    "plt.xlabel      (xlabel = 'Carat Weight'          )\n",
    "plt.ylabel      (ylabel = 'Price (USD)'           )\n",
    "plt.xlim        (left   = 0, right = 2.8          )\n",
    "plt.tight_layout(pad    = 1.0                     )\n",
    "plt.show        (block  = True                    )"
   ]
  },
  {
   "cell_type": "markdown",
   "metadata": {
    "deletable": false,
    "editable": false,
    "run_control": {
     "frozen": true
    }
   },
   "source": [
    "<hr style=\"height:.9px;border-width:0;color:gray;background-color:gray\"><br>\n",
    "<h2> Part III: Boxplots</h2>\n",
    "\n",
    "Boxplots can be made as easily as other plots in seaborn."
   ]
  },
  {
   "cell_type": "code",
   "execution_count": null,
   "metadata": {
    "deletable": false,
    "editable": false
   },
   "outputs": [],
   "source": [
    "help(sns.boxplot)"
   ]
  },
  {
   "cell_type": "markdown",
   "metadata": {
    "deletable": false,
    "editable": false,
    "run_control": {
     "frozen": true
    }
   },
   "source": [
    "<br>\n",
    "<h4>Build a boxplot in the code cell below with any variable(s) you like.</h4>"
   ]
  },
  {
   "cell_type": "code",
   "execution_count": null,
   "metadata": {},
   "outputs": [],
   "source": [
    "# have fun!\n",
    "\n"
   ]
  },
  {
   "cell_type": "markdown",
   "metadata": {
    "deletable": false,
    "editable": false,
    "run_control": {
     "frozen": true
    }
   },
   "source": [
    "<br><hr style=\"height:.9px;border-width:0;color:gray;background-color:gray\"><br>\n",
    "\n",
    "~~~\n",
    "                       ________\n",
    "               o      |   __   |\n",
    "                 \\_ O |  |__|  |\n",
    "              ____/ \\ |___WW___|\n",
    "              __/   /     ||\n",
    "                          ||\n",
    "                          ||\n",
    "           _______________||________________\n",
    "\n",
    "\n",
    "   _____ _                   _____              _    _ \n",
    "  / ____| |                 |  __ \\            | |  | |\n",
    " | (___ | | __ _ _ __ ___   | |  | |_   _ _ __ | | _| |\n",
    "  \\___ \\| |/ _` | '_ ` _ \\  | |  | | | | | '_ \\| |/ / |\n",
    "  ____) | | (_| | | | | | | | |__| | |_| | | | |   <|_|\n",
    " |_____/|_|\\__,_|_| |_| |_| |_____/ \\__,_|_| |_|_|\\_(_)\n",
    "                                                       \n",
    "                                                       \n",
    "\n",
    "\n",
    "~~~\n",
    "\n",
    "<br>"
   ]
  },
  {
   "cell_type": "markdown",
   "metadata": {
    "deletable": false,
    "editable": false,
    "run_control": {
     "frozen": true
    }
   },
   "source": [
    "<br>"
   ]
  }
 ],
 "metadata": {
  "kernelspec": {
   "display_name": "Python 3 (ipykernel)",
   "language": "python",
   "name": "python3"
  },
  "language_info": {
   "codemirror_mode": {
    "name": "ipython",
    "version": 3
   },
   "file_extension": ".py",
   "mimetype": "text/x-python",
   "name": "python",
   "nbconvert_exporter": "python",
   "pygments_lexer": "ipython3",
   "version": "3.11.8"
  },
  "toc": {
   "base_numbering": 1,
   "nav_menu": {},
   "number_sections": false,
   "sideBar": true,
   "skip_h1_title": false,
   "title_cell": "Table of Contents",
   "title_sidebar": "Contents",
   "toc_cell": false,
   "toc_position": {},
   "toc_section_display": true,
   "toc_window_display": false
  },
  "varInspector": {
   "cols": {
    "lenName": 16,
    "lenType": 16,
    "lenVar": 40
   },
   "kernels_config": {
    "python": {
     "delete_cmd_postfix": "",
     "delete_cmd_prefix": "del ",
     "library": "var_list.py",
     "varRefreshCmd": "print(var_dic_list())"
    },
    "r": {
     "delete_cmd_postfix": ") ",
     "delete_cmd_prefix": "rm(",
     "library": "var_list.r",
     "varRefreshCmd": "cat(var_dic_list()) "
    }
   },
   "types_to_exclude": [
    "module",
    "function",
    "builtin_function_or_method",
    "instance",
    "_Feature"
   ],
   "window_display": false
  }
 },
 "nbformat": 4,
 "nbformat_minor": 4
}
